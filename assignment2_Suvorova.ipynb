{
  "nbformat": 4,
  "nbformat_minor": 0,
  "metadata": {
    "colab": {
      "name": "assignment2_Suvorova",
      "provenance": [],
      "collapsed_sections": []
    },
    "kernelspec": {
      "name": "python3",
      "display_name": "Python 3"
    }
  },
  "cells": [
    {
      "cell_type": "code",
      "metadata": {
        "id": "kSIoU-944mW_",
        "colab_type": "code",
        "colab": {}
      },
      "source": [
        "import numpy as np\n",
        "import pandas as pd\n",
        "from sklearn.model_selection import train_test_split\n",
        "from sklearn.preprocessing import StandardScaler\n",
        "from sklearn.model_selection import GridSearchCV"
      ],
      "execution_count": 0,
      "outputs": []
    },
    {
      "cell_type": "markdown",
      "metadata": {
        "id": "FBq2M5QwSYNP",
        "colab_type": "text"
      },
      "source": [
        "# Task 1"
      ]
    },
    {
      "cell_type": "markdown",
      "metadata": {
        "id": "2-JXHL1htwUw",
        "colab_type": "text"
      },
      "source": [
        "Logistic regression стремится поделить всё одной линией, поэтому надо сделать такой датасет, чтобы она могла это сделать. При этом надо запутать алгоритм knn, который смотрит на ближайшие соседние точки и по большинству определяет класс. \n",
        "\n",
        "Для достижения этих двух целей я расположила точки относительно предположительной линии разделения примерно так (точки = \"х\"):\n",
        "\n",
        ".х.........х х....\n",
        "_______________\n",
        "х х.........х......."
      ]
    },
    {
      "cell_type": "markdown",
      "metadata": {
        "id": "n3hdCG2Bu32k",
        "colab_type": "text"
      },
      "source": [
        "creating dataset"
      ]
    },
    {
      "cell_type": "code",
      "metadata": {
        "id": "V9ewcpu4iCtU",
        "colab_type": "code",
        "colab": {}
      },
      "source": [
        "coords1 = []\n",
        "\n",
        "for i in range(0, 900, 10):\n",
        "  coords1.append((i, i))\n",
        "  \n",
        "coords2 = []\n",
        "\n",
        "for i in range(5, 905, 10):\n",
        "  coords2.append((i, i))"
      ],
      "execution_count": 0,
      "outputs": []
    },
    {
      "cell_type": "code",
      "metadata": {
        "id": "saepR5fkqRIs",
        "colab_type": "code",
        "colab": {}
      },
      "source": [
        "dots1 = []\n",
        "\n",
        "for i in coords1:\n",
        "  dots1.append((i[0], i[1]+2))\n",
        "  dots1.append((i[0]+1, i[1]-2))\n",
        "  dots1.append((i[0]+2, i[1])) "
      ],
      "execution_count": 0,
      "outputs": []
    },
    {
      "cell_type": "code",
      "metadata": {
        "id": "aDdKupYfq0zK",
        "colab_type": "code",
        "colab": {}
      },
      "source": [
        "dots2 = []\n",
        "\n",
        "for i in coords2:\n",
        "  dots2.append((i[0], i[1]+2))\n",
        "  dots2.append((i[0]+1, i[1]-2))\n",
        "  dots2.append((i[0]-1, i[1])) "
      ],
      "execution_count": 0,
      "outputs": []
    },
    {
      "cell_type": "code",
      "metadata": {
        "id": "J47G2qB1ioXU",
        "colab_type": "code",
        "colab": {}
      },
      "source": [
        "dots = dots1 + dots2"
      ],
      "execution_count": 0,
      "outputs": []
    },
    {
      "cell_type": "code",
      "metadata": {
        "id": "j-cfAZ4-jC7v",
        "colab_type": "code",
        "colab": {}
      },
      "source": [
        "df = pd.DataFrame(dots)"
      ],
      "execution_count": 0,
      "outputs": []
    },
    {
      "cell_type": "code",
      "metadata": {
        "id": "JlWXCo-mn347",
        "colab_type": "code",
        "colab": {}
      },
      "source": [
        "classes = []\n",
        "\n",
        "for dot in dots:\n",
        "  if dot[0]<dot[1]:\n",
        "    classes.append(0)\n",
        "  else:\n",
        "    classes.append(1)"
      ],
      "execution_count": 0,
      "outputs": []
    },
    {
      "cell_type": "code",
      "metadata": {
        "id": "Svj8cZSQjMSf",
        "colab_type": "code",
        "colab": {}
      },
      "source": [
        "df['class'] = classes"
      ],
      "execution_count": 0,
      "outputs": []
    },
    {
      "cell_type": "code",
      "metadata": {
        "id": "ntUV1pb_jTO4",
        "colab_type": "code",
        "colab": {
          "base_uri": "https://localhost:8080/",
          "height": 204
        },
        "outputId": "fe31b1dd-a0d7-4987-bd20-bc089c98eab7"
      },
      "source": [
        "df.head()"
      ],
      "execution_count": 362,
      "outputs": [
        {
          "output_type": "execute_result",
          "data": {
            "text/html": [
              "<div>\n",
              "<style scoped>\n",
              "    .dataframe tbody tr th:only-of-type {\n",
              "        vertical-align: middle;\n",
              "    }\n",
              "\n",
              "    .dataframe tbody tr th {\n",
              "        vertical-align: top;\n",
              "    }\n",
              "\n",
              "    .dataframe thead th {\n",
              "        text-align: right;\n",
              "    }\n",
              "</style>\n",
              "<table border=\"1\" class=\"dataframe\">\n",
              "  <thead>\n",
              "    <tr style=\"text-align: right;\">\n",
              "      <th></th>\n",
              "      <th>0</th>\n",
              "      <th>1</th>\n",
              "      <th>class</th>\n",
              "    </tr>\n",
              "  </thead>\n",
              "  <tbody>\n",
              "    <tr>\n",
              "      <th>0</th>\n",
              "      <td>0</td>\n",
              "      <td>2</td>\n",
              "      <td>0</td>\n",
              "    </tr>\n",
              "    <tr>\n",
              "      <th>1</th>\n",
              "      <td>1</td>\n",
              "      <td>-2</td>\n",
              "      <td>1</td>\n",
              "    </tr>\n",
              "    <tr>\n",
              "      <th>2</th>\n",
              "      <td>2</td>\n",
              "      <td>0</td>\n",
              "      <td>1</td>\n",
              "    </tr>\n",
              "    <tr>\n",
              "      <th>3</th>\n",
              "      <td>10</td>\n",
              "      <td>12</td>\n",
              "      <td>0</td>\n",
              "    </tr>\n",
              "    <tr>\n",
              "      <th>4</th>\n",
              "      <td>11</td>\n",
              "      <td>8</td>\n",
              "      <td>1</td>\n",
              "    </tr>\n",
              "  </tbody>\n",
              "</table>\n",
              "</div>"
            ],
            "text/plain": [
              "    0   1  class\n",
              "0   0   2      0\n",
              "1   1  -2      1\n",
              "2   2   0      1\n",
              "3  10  12      0\n",
              "4  11   8      1"
            ]
          },
          "metadata": {
            "tags": []
          },
          "execution_count": 362
        }
      ]
    },
    {
      "cell_type": "markdown",
      "metadata": {
        "id": "tXzrXC0Tu9R6",
        "colab_type": "text"
      },
      "source": [
        "plot"
      ]
    },
    {
      "cell_type": "code",
      "metadata": {
        "id": "rEzBu7Asjape",
        "colab_type": "code",
        "colab": {
          "base_uri": "https://localhost:8080/",
          "height": 300
        },
        "outputId": "43537593-b72a-4652-9e45-262fc8a8df04"
      },
      "source": [
        "%matplotlib inline\n",
        "\n",
        "ax = df[df['class'] == 0].plot.scatter(x=0, y=1, c='blue', label='0')\n",
        "ax = df[df['class'] == 1].plot.scatter(x=0, y=1, c='orange', label='1', ax=ax)\n",
        "ax"
      ],
      "execution_count": 363,
      "outputs": [
        {
          "output_type": "execute_result",
          "data": {
            "text/plain": [
              "<matplotlib.axes._subplots.AxesSubplot at 0x7f44aa94d470>"
            ]
          },
          "metadata": {
            "tags": []
          },
          "execution_count": 363
        },
        {
          "output_type": "display_data",
          "data": {
            "image/png": "[encoded data removed]",
            "text/plain": [
              "<Figure size 432x288 with 1 Axes>"
            ]
          },
          "metadata": {
            "tags": []
          }
        }
      ]
    },
    {
      "cell_type": "markdown",
      "metadata": {
        "id": "gwnv8fLlTIxg",
        "colab_type": "text"
      },
      "source": [
        "split dataset into: train, valid, test"
      ]
    },
    {
      "cell_type": "code",
      "metadata": {
        "id": "5Nvn33YkNbVZ",
        "colab_type": "code",
        "colab": {}
      },
      "source": [
        "X = df.iloc[:, :2].values\n",
        "y = df.iloc[:, 2].values"
      ],
      "execution_count": 0,
      "outputs": []
    },
    {
      "cell_type": "code",
      "metadata": {
        "id": "3-vnCXpZNS2G",
        "colab_type": "code",
        "colab": {}
      },
      "source": [
        "X_train, X_test, y_train, y_test = train_test_split(X, y, test_size=0.30)"
      ],
      "execution_count": 0,
      "outputs": []
    },
    {
      "cell_type": "code",
      "metadata": {
        "id": "nfG1-i5JOF8A",
        "colab_type": "code",
        "colab": {}
      },
      "source": [
        "scaler = StandardScaler()\n",
        "scaler.fit(X_train)\n",
        "\n",
        "X_train = scaler.transform(X_train)\n",
        "X_test = scaler.transform(X_test)"
      ],
      "execution_count": 0,
      "outputs": []
    },
    {
      "cell_type": "markdown",
      "metadata": {
        "id": "ht1ioTDBTTuf",
        "colab_type": "text"
      },
      "source": [
        "**KNN**"
      ]
    },
    {
      "cell_type": "markdown",
      "metadata": {
        "id": "zaXOf07MvE90",
        "colab_type": "text"
      },
      "source": [
        "tuning"
      ]
    },
    {
      "cell_type": "code",
      "metadata": {
        "id": "S54gR-mYa36X",
        "colab_type": "code",
        "colab": {
          "base_uri": "https://localhost:8080/",
          "height": 71
        },
        "outputId": "93cde63c-9cd5-45c1-e395-2c78df2eed10"
      },
      "source": [
        "classifier = KNeighborsClassifier()\n",
        "classifier = GridSearchCV(classifier, {'n_neighbors': range(3,15), \n",
        "                                'weights':['uniform', 'distance']}, cv=5)\n",
        "classifier.fit(X_train, y=y_train)"
      ],
      "execution_count": 376,
      "outputs": [
        {
          "output_type": "stream",
          "text": [
            "/usr/local/lib/python3.6/dist-packages/sklearn/model_selection/_search.py:814: DeprecationWarning: The default of the `iid` parameter will change from True to False in version 0.22 and will be removed in 0.24. This will change numeric results when test-set sizes are unequal.\n",
            "  DeprecationWarning)\n"
          ],
          "name": "stderr"
        }
      ]
    },
    {
      "cell_type": "markdown",
      "metadata": {
        "id": "rgJGWvGNTXNx",
        "colab_type": "text"
      },
      "source": [
        "**PREDICT on test_data** "
      ]
    },
    {
      "cell_type": "code",
      "metadata": {
        "id": "B9j6VRWdTUkV",
        "colab_type": "code",
        "colab": {}
      },
      "source": [
        "y_pred_knn = classifier.best_estimator_.predict(X_test)"
      ],
      "execution_count": 0,
      "outputs": []
    },
    {
      "cell_type": "code",
      "metadata": {
        "id": "48O8NVhlTjIw",
        "colab_type": "code",
        "outputId": "9474103c-c72e-4b4b-b812-dd377bb595da",
        "colab": {
          "base_uri": "https://localhost:8080/",
          "height": 204
        }
      },
      "source": [
        "print(confusion_matrix(y_test, y_pred_knn))\n",
        "print(classification_report(y_test, y_pred_knn))"
      ],
      "execution_count": 378,
      "outputs": [
        {
          "output_type": "stream",
          "text": [
            "[[34 41]\n",
            " [60 27]]\n",
            "              precision    recall  f1-score   support\n",
            "\n",
            "           0       0.36      0.45      0.40        75\n",
            "           1       0.40      0.31      0.35        87\n",
            "\n",
            "    accuracy                           0.38       162\n",
            "   macro avg       0.38      0.38      0.38       162\n",
            "weighted avg       0.38      0.38      0.37       162\n",
            "\n"
          ],
          "name": "stdout"
        }
      ]
    },
    {
      "cell_type": "markdown",
      "metadata": {
        "id": "jyZiHgKkU76J",
        "colab_type": "text"
      },
      "source": [
        "**LOGISTIC REGRESSION**"
      ]
    },
    {
      "cell_type": "markdown",
      "metadata": {
        "id": "bSYG1dGkvJYy",
        "colab_type": "text"
      },
      "source": [
        "tuning"
      ]
    },
    {
      "cell_type": "code",
      "metadata": {
        "id": "PEgdvUZfcHuL",
        "colab_type": "code",
        "colab": {
          "base_uri": "https://localhost:8080/",
          "height": 411
        },
        "outputId": "3f1e88c6-72d3-4bb7-9a8c-36090fa4e0a6"
      },
      "source": [
        "classifier = LogisticRegression() \n",
        "logreg = GridSearchCV(classifier, {'C': [1e-1, 1]}, cv=5)\n",
        "logreg.fit(X_train, y=y_train)\n",
        "    \n",
        "logreg_prePred = logreg.best_estimator_.predict(X_valid)"
      ],
      "execution_count": 372,
      "outputs": [
        {
          "output_type": "stream",
          "text": [
            "/usr/local/lib/python3.6/dist-packages/sklearn/linear_model/logistic.py:432: FutureWarning: Default solver will be changed to 'lbfgs' in 0.22. Specify a solver to silence this warning.\n",
            "  FutureWarning)\n",
            "/usr/local/lib/python3.6/dist-packages/sklearn/linear_model/logistic.py:432: FutureWarning: Default solver will be changed to 'lbfgs' in 0.22. Specify a solver to silence this warning.\n",
            "  FutureWarning)\n",
            "/usr/local/lib/python3.6/dist-packages/sklearn/linear_model/logistic.py:432: FutureWarning: Default solver will be changed to 'lbfgs' in 0.22. Specify a solver to silence this warning.\n",
            "  FutureWarning)\n",
            "/usr/local/lib/python3.6/dist-packages/sklearn/linear_model/logistic.py:432: FutureWarning: Default solver will be changed to 'lbfgs' in 0.22. Specify a solver to silence this warning.\n",
            "  FutureWarning)\n",
            "/usr/local/lib/python3.6/dist-packages/sklearn/linear_model/logistic.py:432: FutureWarning: Default solver will be changed to 'lbfgs' in 0.22. Specify a solver to silence this warning.\n",
            "  FutureWarning)\n",
            "/usr/local/lib/python3.6/dist-packages/sklearn/linear_model/logistic.py:432: FutureWarning: Default solver will be changed to 'lbfgs' in 0.22. Specify a solver to silence this warning.\n",
            "  FutureWarning)\n",
            "/usr/local/lib/python3.6/dist-packages/sklearn/linear_model/logistic.py:432: FutureWarning: Default solver will be changed to 'lbfgs' in 0.22. Specify a solver to silence this warning.\n",
            "  FutureWarning)\n",
            "/usr/local/lib/python3.6/dist-packages/sklearn/linear_model/logistic.py:432: FutureWarning: Default solver will be changed to 'lbfgs' in 0.22. Specify a solver to silence this warning.\n",
            "  FutureWarning)\n",
            "/usr/local/lib/python3.6/dist-packages/sklearn/linear_model/logistic.py:432: FutureWarning: Default solver will be changed to 'lbfgs' in 0.22. Specify a solver to silence this warning.\n",
            "  FutureWarning)\n",
            "/usr/local/lib/python3.6/dist-packages/sklearn/linear_model/logistic.py:432: FutureWarning: Default solver will be changed to 'lbfgs' in 0.22. Specify a solver to silence this warning.\n",
            "  FutureWarning)\n",
            "/usr/local/lib/python3.6/dist-packages/sklearn/linear_model/logistic.py:432: FutureWarning: Default solver will be changed to 'lbfgs' in 0.22. Specify a solver to silence this warning.\n",
            "  FutureWarning)\n"
          ],
          "name": "stderr"
        }
      ]
    },
    {
      "cell_type": "markdown",
      "metadata": {
        "id": "_PG87N2hvNSu",
        "colab_type": "text"
      },
      "source": [
        "**PREDICT on test_data**"
      ]
    },
    {
      "cell_type": "code",
      "metadata": {
        "id": "F5wgc3dacuyC",
        "colab_type": "code",
        "colab": {}
      },
      "source": [
        "logreg_pred = logreg.best_estimator_.predict(X_test)"
      ],
      "execution_count": 0,
      "outputs": []
    },
    {
      "cell_type": "code",
      "metadata": {
        "id": "fzlgrfnEc2pS",
        "colab_type": "code",
        "colab": {
          "base_uri": "https://localhost:8080/",
          "height": 204
        },
        "outputId": "3776e2d3-ff38-4130-ba83-9dd4984513a7"
      },
      "source": [
        "print(confusion_matrix(y_test, logreg_pred))\n",
        "print(classification_report(y_test, logreg_pred))"
      ],
      "execution_count": 375,
      "outputs": [
        {
          "output_type": "stream",
          "text": [
            "[[75  0]\n",
            " [80  7]]\n",
            "              precision    recall  f1-score   support\n",
            "\n",
            "           0       0.48      1.00      0.65        75\n",
            "           1       1.00      0.08      0.15        87\n",
            "\n",
            "    accuracy                           0.51       162\n",
            "   macro avg       0.74      0.54      0.40       162\n",
            "weighted avg       0.76      0.51      0.38       162\n",
            "\n"
          ],
          "name": "stdout"
        }
      ]
    },
    {
      "cell_type": "markdown",
      "metadata": {
        "id": "YmxL4uM1vUPT",
        "colab_type": "text"
      },
      "source": [
        "**итог: ACCURACY LOGREG > ACCURACY KNN**"
      ]
    },
    {
      "cell_type": "markdown",
      "metadata": {
        "id": "WQFGpPdMviiq",
        "colab_type": "text"
      },
      "source": [
        "# Task 2"
      ]
    },
    {
      "cell_type": "markdown",
      "metadata": {
        "id": "w6A6ev6e3hVL",
        "colab_type": "text"
      },
      "source": [
        "В этом пункте, наоборот, получается, данные должны быть распределены так, чтобы линией их делить было сложно, зато по окружению - легко. Как выглядят мои данные хорошо видно на рисунке ниже."
      ]
    },
    {
      "cell_type": "code",
      "metadata": {
        "id": "lD45x3uRLQhr",
        "colab_type": "code",
        "colab": {}
      },
      "source": [
        "dataset = pd.read_csv('task2.csv', sep = ';', names = ['x', 'y', 'class'])"
      ],
      "execution_count": 0,
      "outputs": []
    },
    {
      "cell_type": "code",
      "metadata": {
        "id": "EXGAozaQ8NvI",
        "colab_type": "code",
        "outputId": "2bc172b3-e392-4f33-a969-d11fbc2c0039",
        "colab": {
          "base_uri": "https://localhost:8080/",
          "height": 300
        }
      },
      "source": [
        "%matplotlib inline\n",
        "\n",
        "ax = dataset[dataset['class'] == 0].plot.scatter(x='x', y='y', c='blue', label='0')\n",
        "ax = dataset[dataset['class'] == 1].plot.scatter(x='x', y='y', c='orange', label='1', ax=ax)\n",
        "\n",
        "ax"
      ],
      "execution_count": 412,
      "outputs": [
        {
          "output_type": "execute_result",
          "data": {
            "text/plain": [
              "<matplotlib.axes._subplots.AxesSubplot at 0x7f44aa82a828>"
            ]
          },
          "metadata": {
            "tags": []
          },
          "execution_count": 412
        },
        {
          "output_type": "display_data",
          "data": {
            "image/png": "[encoded data removed]",
            "text/plain": [
              "<Figure size 432x288 with 1 Axes>"
            ]
          },
          "metadata": {
            "tags": []
          }
        }
      ]
    },
    {
      "cell_type": "code",
      "metadata": {
        "colab_type": "code",
        "id": "PjD_j20w1wpP",
        "colab": {}
      },
      "source": [
        "X = dataset.iloc[:, :2].values\n",
        "y = dataset.iloc[:, 2].values\n",
        "\n",
        "X_train, X_test, y_train, y_test = train_test_split(X, y, test_size=0.30)\n",
        "\n",
        "scaler = StandardScaler()\n",
        "scaler.fit(X_train)\n",
        "\n",
        "X_train = scaler.transform(X_train)\n",
        "X_test = scaler.transform(X_test)"
      ],
      "execution_count": 0,
      "outputs": []
    },
    {
      "cell_type": "markdown",
      "metadata": {
        "colab_type": "text",
        "id": "gA_TuVFr4PRg"
      },
      "source": [
        "**KNN**"
      ]
    },
    {
      "cell_type": "markdown",
      "metadata": {
        "colab_type": "text",
        "id": "PIYEWJfP4PRh"
      },
      "source": [
        "tuning"
      ]
    },
    {
      "cell_type": "code",
      "metadata": {
        "id": "64HZoJo32J0h",
        "colab_type": "code",
        "colab": {
          "base_uri": "https://localhost:8080/",
          "height": 258
        },
        "outputId": "5fcdf889-3e23-40fc-cad4-d7543cb8b44a"
      },
      "source": [
        "classifier = KNeighborsClassifier()\n",
        "classifier = GridSearchCV(classifier, {'n_neighbors': range(3,15), \n",
        "                                'weights':['uniform', 'distance']}, cv=5)\n",
        "classifier.fit(X_train, y=y_train)"
      ],
      "execution_count": 414,
      "outputs": [
        {
          "output_type": "stream",
          "text": [
            "/usr/local/lib/python3.6/dist-packages/sklearn/model_selection/_search.py:814: DeprecationWarning: The default of the `iid` parameter will change from True to False in version 0.22 and will be removed in 0.24. This will change numeric results when test-set sizes are unequal.\n",
            "  DeprecationWarning)\n"
          ],
          "name": "stderr"
        },
        {
          "output_type": "execute_result",
          "data": {
            "text/plain": [
              "GridSearchCV(cv=5, error_score='raise-deprecating',\n",
              "             estimator=KNeighborsClassifier(algorithm='auto', leaf_size=30,\n",
              "                                            metric='minkowski',\n",
              "                                            metric_params=None, n_jobs=None,\n",
              "                                            n_neighbors=5, p=2,\n",
              "                                            weights='uniform'),\n",
              "             iid='warn', n_jobs=None,\n",
              "             param_grid={'n_neighbors': range(3, 15),\n",
              "                         'weights': ['uniform', 'distance']},\n",
              "             pre_dispatch='2*n_jobs', refit=True, return_train_score=False,\n",
              "             scoring=None, verbose=0)"
            ]
          },
          "metadata": {
            "tags": []
          },
          "execution_count": 414
        }
      ]
    },
    {
      "cell_type": "markdown",
      "metadata": {
        "colab_type": "text",
        "id": "nFA298wD4Cro"
      },
      "source": [
        "**PREDICT on test_data**"
      ]
    },
    {
      "cell_type": "code",
      "metadata": {
        "id": "GhFy-YII2SY1",
        "colab_type": "code",
        "colab": {}
      },
      "source": [
        "y_pred_knn = classifier.best_estimator_.predict(X_test)"
      ],
      "execution_count": 0,
      "outputs": []
    },
    {
      "cell_type": "code",
      "metadata": {
        "id": "6CEuU4dx2V_5",
        "colab_type": "code",
        "colab": {
          "base_uri": "https://localhost:8080/",
          "height": 204
        },
        "outputId": "3739753b-8827-4051-8cf7-544250f7e805"
      },
      "source": [
        "print(confusion_matrix(y_test, y_pred_knn))\n",
        "print(classification_report(y_test, y_pred_knn))"
      ],
      "execution_count": 416,
      "outputs": [
        {
          "output_type": "stream",
          "text": [
            "[[40  6]\n",
            " [ 3 41]]\n",
            "              precision    recall  f1-score   support\n",
            "\n",
            "           0       0.93      0.87      0.90        46\n",
            "           1       0.87      0.93      0.90        44\n",
            "\n",
            "    accuracy                           0.90        90\n",
            "   macro avg       0.90      0.90      0.90        90\n",
            "weighted avg       0.90      0.90      0.90        90\n",
            "\n"
          ],
          "name": "stdout"
        }
      ]
    },
    {
      "cell_type": "markdown",
      "metadata": {
        "colab_type": "text",
        "id": "tgI7_DXn3-6L"
      },
      "source": [
        "**LOGISTIC REGRESSION**"
      ]
    },
    {
      "cell_type": "markdown",
      "metadata": {
        "colab_type": "text",
        "id": "6iTxzw8Y3-6N"
      },
      "source": [
        "tuning"
      ]
    },
    {
      "cell_type": "code",
      "metadata": {
        "id": "YRl9Od7G2dle",
        "colab_type": "code",
        "colab": {
          "base_uri": "https://localhost:8080/",
          "height": 411
        },
        "outputId": "e6845f70-7b19-4445-d816-1900d3c3f285"
      },
      "source": [
        "classifier = LogisticRegression() \n",
        "logreg = GridSearchCV(classifier, {'C': [1e-1, 1]}, cv=5)\n",
        "logreg.fit(X_train, y=y_train)\n",
        "    \n",
        "logreg_prePred = logreg.best_estimator_.predict(X_valid)"
      ],
      "execution_count": 417,
      "outputs": [
        {
          "output_type": "stream",
          "text": [
            "/usr/local/lib/python3.6/dist-packages/sklearn/linear_model/logistic.py:432: FutureWarning: Default solver will be changed to 'lbfgs' in 0.22. Specify a solver to silence this warning.\n",
            "  FutureWarning)\n",
            "/usr/local/lib/python3.6/dist-packages/sklearn/linear_model/logistic.py:432: FutureWarning: Default solver will be changed to 'lbfgs' in 0.22. Specify a solver to silence this warning.\n",
            "  FutureWarning)\n",
            "/usr/local/lib/python3.6/dist-packages/sklearn/linear_model/logistic.py:432: FutureWarning: Default solver will be changed to 'lbfgs' in 0.22. Specify a solver to silence this warning.\n",
            "  FutureWarning)\n",
            "/usr/local/lib/python3.6/dist-packages/sklearn/linear_model/logistic.py:432: FutureWarning: Default solver will be changed to 'lbfgs' in 0.22. Specify a solver to silence this warning.\n",
            "  FutureWarning)\n",
            "/usr/local/lib/python3.6/dist-packages/sklearn/linear_model/logistic.py:432: FutureWarning: Default solver will be changed to 'lbfgs' in 0.22. Specify a solver to silence this warning.\n",
            "  FutureWarning)\n",
            "/usr/local/lib/python3.6/dist-packages/sklearn/linear_model/logistic.py:432: FutureWarning: Default solver will be changed to 'lbfgs' in 0.22. Specify a solver to silence this warning.\n",
            "  FutureWarning)\n",
            "/usr/local/lib/python3.6/dist-packages/sklearn/linear_model/logistic.py:432: FutureWarning: Default solver will be changed to 'lbfgs' in 0.22. Specify a solver to silence this warning.\n",
            "  FutureWarning)\n",
            "/usr/local/lib/python3.6/dist-packages/sklearn/linear_model/logistic.py:432: FutureWarning: Default solver will be changed to 'lbfgs' in 0.22. Specify a solver to silence this warning.\n",
            "  FutureWarning)\n",
            "/usr/local/lib/python3.6/dist-packages/sklearn/linear_model/logistic.py:432: FutureWarning: Default solver will be changed to 'lbfgs' in 0.22. Specify a solver to silence this warning.\n",
            "  FutureWarning)\n",
            "/usr/local/lib/python3.6/dist-packages/sklearn/linear_model/logistic.py:432: FutureWarning: Default solver will be changed to 'lbfgs' in 0.22. Specify a solver to silence this warning.\n",
            "  FutureWarning)\n",
            "/usr/local/lib/python3.6/dist-packages/sklearn/linear_model/logistic.py:432: FutureWarning: Default solver will be changed to 'lbfgs' in 0.22. Specify a solver to silence this warning.\n",
            "  FutureWarning)\n"
          ],
          "name": "stderr"
        }
      ]
    },
    {
      "cell_type": "markdown",
      "metadata": {
        "colab_type": "text",
        "id": "0QemxzBr4J-n"
      },
      "source": [
        "**PREDICT on test_data**"
      ]
    },
    {
      "cell_type": "code",
      "metadata": {
        "id": "suhb0cWz2jab",
        "colab_type": "code",
        "colab": {}
      },
      "source": [
        "logreg_pred = logreg.best_estimator_.predict(X_test)"
      ],
      "execution_count": 0,
      "outputs": []
    },
    {
      "cell_type": "code",
      "metadata": {
        "id": "v3i1gW8E2my-",
        "colab_type": "code",
        "colab": {
          "base_uri": "https://localhost:8080/",
          "height": 204
        },
        "outputId": "6dc655c2-d0a7-4ccd-80c6-f70cf6b6ca96"
      },
      "source": [
        "print(confusion_matrix(y_test, logreg_pred))\n",
        "print(classification_report(y_test, logreg_pred))"
      ],
      "execution_count": 419,
      "outputs": [
        {
          "output_type": "stream",
          "text": [
            "[[27 19]\n",
            " [13 31]]\n",
            "              precision    recall  f1-score   support\n",
            "\n",
            "           0       0.68      0.59      0.63        46\n",
            "           1       0.62      0.70      0.66        44\n",
            "\n",
            "    accuracy                           0.64        90\n",
            "   macro avg       0.65      0.65      0.64        90\n",
            "weighted avg       0.65      0.64      0.64        90\n",
            "\n"
          ],
          "name": "stdout"
        }
      ]
    },
    {
      "cell_type": "markdown",
      "metadata": {
        "id": "Og8LoVEgH5b-",
        "colab_type": "text"
      },
      "source": [
        ""
      ]
    },
    {
      "cell_type": "markdown",
      "metadata": {
        "id": "WzqiIYuq32bT",
        "colab_type": "text"
      },
      "source": [
        "**итог: ACCURACY LOGREG < ACCURACY KNN**"
      ]
    },
    {
      "cell_type": "markdown",
      "metadata": {
        "id": "YxHqqYce4tOy",
        "colab_type": "text"
      },
      "source": [
        "# Task 3"
      ]
    },
    {
      "cell_type": "markdown",
      "metadata": {
        "id": "ZK8zK3A7H2xh",
        "colab_type": "text"
      },
      "source": [
        "Суть разница двух алгоритмов в том, что евклидова метрика высчитывает расстояние между точками в пространстве, в то время как косинусная близость смотрит на угол между векторами (начало координат - наша точка). \n",
        "\n",
        "Мои попытки расположить точки, так, чтобы косинусная близость победила Евклидово расстояние не удались :("
      ]
    },
    {
      "cell_type": "code",
      "metadata": {
        "colab_type": "code",
        "id": "qXzhr8K25VO_",
        "colab": {}
      },
      "source": [
        "data = pd.read_csv('task3.csv', sep = ';', names = ['x', 'y', 'class'])"
      ],
      "execution_count": 0,
      "outputs": []
    },
    {
      "cell_type": "code",
      "metadata": {
        "id": "bySm-nG2L6Ga",
        "colab_type": "code",
        "outputId": "8cd1461b-5d3d-4233-e3b1-b04d09f02684",
        "colab": {
          "base_uri": "https://localhost:8080/",
          "height": 204
        }
      },
      "source": [
        "data.head()"
      ],
      "execution_count": 506,
      "outputs": [
        {
          "output_type": "execute_result",
          "data": {
            "text/html": [
              "<div>\n",
              "<style scoped>\n",
              "    .dataframe tbody tr th:only-of-type {\n",
              "        vertical-align: middle;\n",
              "    }\n",
              "\n",
              "    .dataframe tbody tr th {\n",
              "        vertical-align: top;\n",
              "    }\n",
              "\n",
              "    .dataframe thead th {\n",
              "        text-align: right;\n",
              "    }\n",
              "</style>\n",
              "<table border=\"1\" class=\"dataframe\">\n",
              "  <thead>\n",
              "    <tr style=\"text-align: right;\">\n",
              "      <th></th>\n",
              "      <th>x</th>\n",
              "      <th>y</th>\n",
              "      <th>class</th>\n",
              "    </tr>\n",
              "  </thead>\n",
              "  <tbody>\n",
              "    <tr>\n",
              "      <th>0</th>\n",
              "      <td>3.5</td>\n",
              "      <td>0.5</td>\n",
              "      <td>0</td>\n",
              "    </tr>\n",
              "    <tr>\n",
              "      <th>1</th>\n",
              "      <td>3.4</td>\n",
              "      <td>0.9</td>\n",
              "      <td>0</td>\n",
              "    </tr>\n",
              "    <tr>\n",
              "      <th>2</th>\n",
              "      <td>7.0</td>\n",
              "      <td>3.0</td>\n",
              "      <td>0</td>\n",
              "    </tr>\n",
              "    <tr>\n",
              "      <th>3</th>\n",
              "      <td>6.7</td>\n",
              "      <td>2.7</td>\n",
              "      <td>0</td>\n",
              "    </tr>\n",
              "    <tr>\n",
              "      <th>4</th>\n",
              "      <td>4.0</td>\n",
              "      <td>4.0</td>\n",
              "      <td>0</td>\n",
              "    </tr>\n",
              "  </tbody>\n",
              "</table>\n",
              "</div>"
            ],
            "text/plain": [
              "     x    y  class\n",
              "0  3.5  0.5      0\n",
              "1  3.4  0.9      0\n",
              "2  7.0  3.0      0\n",
              "3  6.7  2.7      0\n",
              "4  4.0  4.0      0"
            ]
          },
          "metadata": {
            "tags": []
          },
          "execution_count": 506
        }
      ]
    },
    {
      "cell_type": "code",
      "metadata": {
        "id": "QR_ZZqZRhsyT",
        "colab_type": "code",
        "outputId": "07030bcc-681a-4809-b976-28d6a6d4fdf1",
        "colab": {
          "base_uri": "https://localhost:8080/",
          "height": 300
        }
      },
      "source": [
        "%matplotlib inline\n",
        "\n",
        "ax = data[data['class'] == 0].plot.scatter(x='x', y='y', c='blue', label='0')\n",
        "ax = data[data['class'] == 1].plot.scatter(x='x', y='y', c='orange', label='1', ax=ax)\n",
        "#ax = data[data['class'] == 2].plot.scatter(x='x', y='y', c='green', label='2', ax=ax)\n",
        "#ax = data[data['class'] == 3].plot.scatter(x='x', y='y', c='pink', label='3', ax=ax)\n",
        "#ax = data[data['class'] == 4].plot.scatter(x='x', y='y', c='yellow', label='4', ax=ax)\n",
        "ax"
      ],
      "execution_count": 507,
      "outputs": [
        {
          "output_type": "execute_result",
          "data": {
            "text/plain": [
              "<matplotlib.axes._subplots.AxesSubplot at 0x7f44a9e1af98>"
            ]
          },
          "metadata": {
            "tags": []
          },
          "execution_count": 507
        },
        {
          "output_type": "display_data",
          "data": {
            "image/png": "[encoded data removed]",
            "text/plain": [
              "<Figure size 432x288 with 1 Axes>"
            ]
          },
          "metadata": {
            "tags": []
          }
        }
      ]
    },
    {
      "cell_type": "code",
      "metadata": {
        "colab_type": "code",
        "id": "gVqetj2x5VPO",
        "colab": {}
      },
      "source": [
        "X = dataset.iloc[:, :2].values\n",
        "y = dataset.iloc[:, 2].values"
      ],
      "execution_count": 0,
      "outputs": []
    },
    {
      "cell_type": "code",
      "metadata": {
        "colab_type": "code",
        "id": "auoQy9Zd5VPR",
        "colab": {}
      },
      "source": [
        "X_train, X_test, y_train, y_test = train_test_split(X, y, test_size=0.30)"
      ],
      "execution_count": 0,
      "outputs": []
    },
    {
      "cell_type": "code",
      "metadata": {
        "colab_type": "code",
        "id": "RQPg47kV5VPV",
        "colab": {}
      },
      "source": [
        "scaler = StandardScaler()\n",
        "scaler.fit(X_train)\n",
        "\n",
        "X_train = scaler.transform(X_train)\n",
        "X_test = scaler.transform(X_test)"
      ],
      "execution_count": 0,
      "outputs": []
    },
    {
      "cell_type": "code",
      "metadata": {
        "id": "oMsQs2V951Gf",
        "colab_type": "code",
        "colab": {
          "base_uri": "https://localhost:8080/",
          "height": 258
        },
        "outputId": "36ab5f7e-b9d4-4c37-ee4c-550b1dd1a8ea"
      },
      "source": [
        "classifier = KNeighborsClassifier()\n",
        "classifier = GridSearchCV(classifier, {'n_neighbors': range(3,15), \n",
        "                                'weights':['uniform', 'distance'], 'metric':['cosine']}, cv=5)\n",
        "classifier.fit(X_train, y=y_train)"
      ],
      "execution_count": 511,
      "outputs": [
        {
          "output_type": "stream",
          "text": [
            "/usr/local/lib/python3.6/dist-packages/sklearn/model_selection/_search.py:814: DeprecationWarning: The default of the `iid` parameter will change from True to False in version 0.22 and will be removed in 0.24. This will change numeric results when test-set sizes are unequal.\n",
            "  DeprecationWarning)\n"
          ],
          "name": "stderr"
        },
        {
          "output_type": "execute_result",
          "data": {
            "text/plain": [
              "GridSearchCV(cv=5, error_score='raise-deprecating',\n",
              "             estimator=KNeighborsClassifier(algorithm='auto', leaf_size=30,\n",
              "                                            metric='minkowski',\n",
              "                                            metric_params=None, n_jobs=None,\n",
              "                                            n_neighbors=5, p=2,\n",
              "                                            weights='uniform'),\n",
              "             iid='warn', n_jobs=None,\n",
              "             param_grid={'metric': ['cosine'], 'n_neighbors': range(3, 15),\n",
              "                         'weights': ['uniform', 'distance']},\n",
              "             pre_dispatch='2*n_jobs', refit=True, return_train_score=False,\n",
              "             scoring=None, verbose=0)"
            ]
          },
          "metadata": {
            "tags": []
          },
          "execution_count": 511
        }
      ]
    },
    {
      "cell_type": "code",
      "metadata": {
        "colab_type": "code",
        "id": "9YIcIKFI6PeY",
        "colab": {}
      },
      "source": [
        "y_pred_knn = classifier.best_estimator_.predict(X_test)"
      ],
      "execution_count": 0,
      "outputs": []
    },
    {
      "cell_type": "code",
      "metadata": {
        "colab_type": "code",
        "outputId": "6da567b6-30f3-4abf-d829-9a6df7f195f9",
        "id": "XiRPPjuz6Pef",
        "colab": {
          "base_uri": "https://localhost:8080/",
          "height": 204
        }
      },
      "source": [
        "print(confusion_matrix(y_test, y_pred_knn))\n",
        "print(classification_report(y_test, y_pred_knn))"
      ],
      "execution_count": 513,
      "outputs": [
        {
          "output_type": "stream",
          "text": [
            "[[26 21]\n",
            " [14 29]]\n",
            "              precision    recall  f1-score   support\n",
            "\n",
            "           0       0.65      0.55      0.60        47\n",
            "           1       0.58      0.67      0.62        43\n",
            "\n",
            "    accuracy                           0.61        90\n",
            "   macro avg       0.61      0.61      0.61        90\n",
            "weighted avg       0.62      0.61      0.61        90\n",
            "\n"
          ],
          "name": "stdout"
        }
      ]
    },
    {
      "cell_type": "code",
      "metadata": {
        "colab_type": "code",
        "outputId": "ed20673b-dc5c-4485-a324-3e639fde599c",
        "id": "4dsihtil6c5d",
        "colab": {
          "base_uri": "https://localhost:8080/",
          "height": 258
        }
      },
      "source": [
        "classifier = KNeighborsClassifier()\n",
        "classifier = GridSearchCV(classifier, {'n_neighbors': range(3,15), \n",
        "                                'weights':['uniform', 'distance'], 'metric':['euclidean']}, cv=5)\n",
        "classifier.fit(X_train, y=y_train)"
      ],
      "execution_count": 514,
      "outputs": [
        {
          "output_type": "stream",
          "text": [
            "/usr/local/lib/python3.6/dist-packages/sklearn/model_selection/_search.py:814: DeprecationWarning: The default of the `iid` parameter will change from True to False in version 0.22 and will be removed in 0.24. This will change numeric results when test-set sizes are unequal.\n",
            "  DeprecationWarning)\n"
          ],
          "name": "stderr"
        },
        {
          "output_type": "execute_result",
          "data": {
            "text/plain": [
              "GridSearchCV(cv=5, error_score='raise-deprecating',\n",
              "             estimator=KNeighborsClassifier(algorithm='auto', leaf_size=30,\n",
              "                                            metric='minkowski',\n",
              "                                            metric_params=None, n_jobs=None,\n",
              "                                            n_neighbors=5, p=2,\n",
              "                                            weights='uniform'),\n",
              "             iid='warn', n_jobs=None,\n",
              "             param_grid={'metric': ['euclidean'], 'n_neighbors': range(3, 15),\n",
              "                         'weights': ['uniform', 'distance']},\n",
              "             pre_dispatch='2*n_jobs', refit=True, return_train_score=False,\n",
              "             scoring=None, verbose=0)"
            ]
          },
          "metadata": {
            "tags": []
          },
          "execution_count": 514
        }
      ]
    },
    {
      "cell_type": "code",
      "metadata": {
        "colab_type": "code",
        "id": "KY6jsXPd6c5l",
        "colab": {}
      },
      "source": [
        "y_pred_knn = classifier.best_estimator_.predict(X_test)"
      ],
      "execution_count": 0,
      "outputs": []
    },
    {
      "cell_type": "code",
      "metadata": {
        "colab_type": "code",
        "outputId": "556d6d37-bd34-472f-f8d2-57421a5d15f9",
        "id": "vUOyDZP66c5q",
        "colab": {
          "base_uri": "https://localhost:8080/",
          "height": 204
        }
      },
      "source": [
        "print(confusion_matrix(y_test, y_pred_knn))\n",
        "print(classification_report(y_test, y_pred_knn))"
      ],
      "execution_count": 516,
      "outputs": [
        {
          "output_type": "stream",
          "text": [
            "[[44  3]\n",
            " [ 2 41]]\n",
            "              precision    recall  f1-score   support\n",
            "\n",
            "           0       0.96      0.94      0.95        47\n",
            "           1       0.93      0.95      0.94        43\n",
            "\n",
            "    accuracy                           0.94        90\n",
            "   macro avg       0.94      0.94      0.94        90\n",
            "weighted avg       0.94      0.94      0.94        90\n",
            "\n"
          ],
          "name": "stdout"
        }
      ]
    }
  ]
}