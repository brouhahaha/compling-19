{
  "nbformat": 4,
  "nbformat_minor": 0,
  "metadata": {
    "kernelspec": {
      "display_name": "Python 3",
      "language": "python",
      "name": "python3"
    },
    "language_info": {
      "codemirror_mode": {
        "name": "ipython",
        "version": 3
      },
      "file_extension": ".py",
      "mimetype": "text/x-python",
      "name": "python",
      "nbconvert_exporter": "python",
      "pygments_lexer": "ipython3",
      "version": "3.7.3"
    },
    "colab": {
      "name": "assignment_1_Suvorova.ipynb",
      "provenance": [],
      "collapsed_sections": []
    }
  },
  "cells": [
    {
      "cell_type": "markdown",
      "metadata": {
        "id": "IIyPYyLt8ukk",
        "colab_type": "text"
      },
      "source": [
        "# Assignment 1\n",
        "\n",
        "Using text http://www.gutenberg.org/files/2600/2600-0.txt\n",
        "1. Make text lowercase and remove all punctuation except spaces and dots.\n",
        "2. Tokenize text by BPE with vocab_size = 100\n",
        "3. Train 3-gram language model with laplace smoothing $\\delta=1$\n",
        "4. Using beam search with k=10 generate sequences of length=10 conditioned on provided inputs. Treat dots as terminal tokens.\n",
        "5. Calculate perplexity of the language model for the first sentence."
      ]
    },
    {
      "cell_type": "code",
      "metadata": {
        "id": "GIeIBU_Y9Xgx",
        "colab_type": "code",
        "outputId": "ee8c87e5-3f2f-42cc-a006-c2070d610c34",
        "colab": {
          "base_uri": "https://localhost:8080/",
          "height": 125
        }
      },
      "source": [
        "from google.colab import drive                  #настройка доступа к файлам на Google drive\n",
        "drive.mount('/content/gdrive')"
      ],
      "execution_count": 2,
      "outputs": [
        {
          "output_type": "stream",
          "text": [
            "Go to this URL in a browser: https://accounts.google.com/o/oauth2/auth?client_id=947318989803-6bn6qk8qdgf4n4g3pfee6491hc0brc4i.apps.googleusercontent.com&redirect_uri=urn%3Aietf%3Awg%3Aoauth%3A2.0%3Aoob&scope=email%20https%3A%2F%2Fwww.googleapis.com%2Fauth%2Fdocs.test%20https%3A%2F%2Fwww.googleapis.com%2Fauth%2Fdrive%20https%3A%2F%2Fwww.googleapis.com%2Fauth%2Fdrive.photos.readonly%20https%3A%2F%2Fwww.googleapis.com%2Fauth%2Fpeopleapi.readonly&response_type=code\n",
            "\n",
            "Enter your authorization code:\n",
            "··········\n",
            "Mounted at /content/gdrive\n"
          ],
          "name": "stdout"
        }
      ]
    },
    {
      "cell_type": "code",
      "metadata": {
        "id": "qEc1a2158uko",
        "colab_type": "code",
        "outputId": "0a5b981d-db82-4323-be69-71c47ca52c1d",
        "colab": {
          "base_uri": "https://localhost:8080/",
          "height": 34
        }
      },
      "source": [
        "text = open('/content/gdrive/My Drive/2600-0.txt', 'r').read()[2:]\n",
        "len(text)"
      ],
      "execution_count": 19,
      "outputs": [
        {
          "output_type": "execute_result",
          "data": {
            "text/plain": [
              "3227579"
            ]
          },
          "metadata": {
            "tags": []
          },
          "execution_count": 19
        }
      ]
    },
    {
      "cell_type": "code",
      "metadata": {
        "id": "xujdRMrw8ukv",
        "colab_type": "code",
        "outputId": "f48e3244-3386-42d6-b819-7b55cf560f97",
        "colab": {
          "base_uri": "https://localhost:8080/",
          "height": 34
        }
      },
      "source": [
        "import string\n",
        "import re\n",
        "\n",
        "def preprocess_text(text):\n",
        "    text_lower = text.lower()\n",
        "    clean_text = re.sub(r'[^\\w\\d\\. ]+', '', text_lower)\n",
        "    no_spaces_text = re.sub(\"  +\",' ',clean_text)\n",
        "    return no_spaces_text\n",
        "\n",
        "text = preprocess_text(text)\n",
        "len(text)\n",
        "#assert len(text) == 3141169"
      ],
      "execution_count": 20,
      "outputs": [
        {
          "output_type": "execute_result",
          "data": {
            "text/plain": [
              "3078785"
            ]
          },
          "metadata": {
            "tags": []
          },
          "execution_count": 20
        }
      ]
    },
    {
      "cell_type": "code",
      "metadata": {
        "id": "1jFjwT-I8uk0",
        "colab_type": "code",
        "colab": {}
      },
      "source": [
        "text = text.split('.')\n",
        "text = [x.strip() for x in text[:1000]]"
      ],
      "execution_count": 0,
      "outputs": []
    },
    {
      "cell_type": "code",
      "metadata": {
        "id": "XNI-Z1yCYVk8",
        "colab_type": "code",
        "outputId": "9138dc2d-e6c1-417f-81f2-aae55128d68e",
        "colab": {
          "base_uri": "https://localhost:8080/",
          "height": 54
        }
      },
      "source": [
        "print(text)"
      ],
      "execution_count": 0,
      "outputs": [
        {
          "output_type": "stream",
          "text": [
            "['the project gutenberg ebook of war and peace by leo tolstoythis ebook is for the use of anyone anywhere at no cost and with almostno restrictions whatsoever', 'you may copy it give it away or reuseit under the terms of the project gutenberg license included with thisebook or online at www', 'gutenberg', 'orgtitle war and peaceauthor leo tolstoytranslators louise and aylmer maudeposting date january 10 2009 ebook 2600last updated january 21 2019language englishcharacter set encoding utf8 start of this project gutenberg ebook war and peace an anonymous volunteer and david widgerwar and peaceby leo tolstoytolstoi contents book one 1805 chapter i chapter ii chapter iii chapter iv chapter v chapter vi chapter vii chapter viii chapter ix chapter x chapter xi chapter xii chapter xiii chapter xiv chapter xv chapter xvi chapter xvii chapter xviii chapter xix chapter xx chapter xxi chapter xxii chapter xxiii chapter xxiv chapter xxv chapter xxvi chapter xxvii chapter xxviii book two 1805 chapter i chapter ii chapter iii chapter iv chapter v chapter vi chapter vii chapter viii chapter ix chapter x chapter xi chapter xii chapter xiii chapter xiv chapter xv chapter xvi chapter xvii chapter xviii chapter xix chapter xx chapter xxi book three 1805 chapter i chapter ii chapter iii chapter iv chapter v chapter vi chapter vii chapter viii chapter ix chapter x chapter xi chapter xii chapter xiii chapter xiv chapter xv chapter xvi chapter xvii chapter xviii chapter xix book four 1806 chapter i chapter ii chapter iii chapter iv chapter v chapter vi chapter vii chapter viii chapter ix chapter x chapter xi chapter xii chapter xiii chapter xiv chapter xv chapter xvi book five 1806 07 chapter i chapter ii chapter iii chapter iv chapter v chapter vi chapter vii chapter viii chapter ix chapter x chapter xi chapter xii chapter xiii chapter xiv chapter xv chapter xvi chapter xvii chapter xviii chapter xix chapter xx chapter xxi chapter xxii book six 1808 10 chapter i chapter ii chapter iii chapter iv chapter v chapter vi chapter vii chapter viii chapter ix chapter x chapter xi chapter xii chapter xiii chapter xiv chapter xv chapter xvi chapter xvii chapter xviii chapter xix chapter xx chapter xxi chapter xxii chapter xxiii chapter xxiv chapter xxv chapter xxvi book seven 1810 11 chapter i chapter ii chapter iii chapter iv chapter v chapter vi chapter vii chapter viii chapter ix chapter x chapter xi chapter xii chapter xiii book eight 1811 12 chapter i chapter ii chapter iii chapter iv chapter v chapter vi chapter vii chapter viii chapter ix chapter x chapter xi chapter xii chapter xiii chapter xiv chapter xv chapter xvi chapter xvii chapter xviii chapter xix chapter xx chapter xxi chapter xxii book nine 1812 chapter i chapter ii chapter iii chapter iv chapter v chapter vi chapter vii chapter viii chapter ix chapter x chapter xi chapter xii chapter xiii chapter xiv chapter xv chapter xvi chapter xvii chapter xviii chapter xix chapter xx chapter xxi chapter xxii chapter xxiii book ten 1812 chapter i chapter ii chapter iii chapter iv chapter v chapter vi chapter vii chapter viii chapter ix chapter x chapter xi chapter xii chapter xiii chapter xiv chapter xv chapter xvi chapter xvii chapter xviii chapter xix chapter xx chapter xxi chapter xxii chapter xxiii chapter xxiv chapter xxv chapter xxvi chapter xxvii chapter xxviii chapter xxix chapter xxx chapter xxxi chapter xxxii chapter xxxiii chapter xxxiv chapter xxxv chapter xxxvi chapter xxxvii chapter xxxviii chapter xxxix book eleven 1812 chapter i chapter ii chapter iii chapter iv chapter v chapter vi chapter vii chapter viii chapter ix chapter x chapter xi chapter xii chapter xiii chapter xiv chapter xv chapter xvi chapter xvii chapter xviii chapter xix chapter xx chapter xxi chapter xxii chapter xxiii chapter xxiv chapter xxv chapter xxvi chapter xxvii chapter xxviii chapter xxix chapter xxx chapter xxxi chapter xxxii chapter xxxiii chapter xxxiv book twelve 1812 chapter i chapter ii chapter iii chapter iv chapter v chapter vi chapter vii chapter viii chapter ix chapter x chapter xi chapter xii chapter xiii chapter xiv chapter xv chapter xvi book thirteen 1812 chapter i chapter ii chapter iii chapter iv chapter v chapter vi chapter vii chapter viii chapter ix chapter x chapter xi chapter xii chapter xiii chapter xiv chapter xv chapter xvi chapter xvii chapter xviii chapter xix book fourteen 1812 chapter i chapter ii chapter iii chapter iv chapter v chapter vi chapter vii chapter viii chapter ix chapter x chapter xi chapter xii chapter xiii chapter xiv chapter xv chapter xvi chapter xvii chapter xviii chapter xix book fifteen 1812 13 chapter i chapter ii chapter iii chapter iv chapter v chapter vi chapter vii chapter viii chapter ix chapter x chapter xi chapter xii chapter xiii chapter xiv chapter xv chapter xvi chapter xvii chapter xviii chapter xix chapter xx first epilogue 1813 20 chapter i chapter ii chapter iii chapter iv chapter v chapter vi chapter vii chapter viii chapter ix chapter x chapter xi chapter xii chapter xiii chapter xiv chapter xv chapter xvi second epilogue chapter i chapter ii chapter iii chapter iv chapter v chapter vi chapter vii chapter viii chapter ix chapter x chapter xi chapter xiibook one 1805chapter iwell prince so genoa and lucca are now just family estates of thebuonapartes', 'but i warn you if you dont tell me that this means warif you still try to defend the infamies and horrors perpetrated by thatantichristi really believe he is antichristi will have nothingmore to do with you and you are no longer my friend no longer myfaithful slave as you call yourself but how do you do i see ihave frightened yousit down and tell me all the news', 'it was in july 1805 and the speaker was the wellknown anna pávlovnaschérer maid of honor and favorite of the empress márya fëdorovna', 'with these words she greeted prince vasíli kurágin a man of highrank and importance who was the first to arrive at her reception', 'annapávlovna had had a cough for some days', 'she was as she said sufferingfrom la grippe grippe being then a new word in st', 'petersburg usedonly by the elite', 'all her invitations without exception written in french and deliveredby a scarletliveried footman that morning ran as followsif you have nothing better to do count or prince and if theprospect of spending an evening with a poor invalid is not too terriblei shall be very charmed to see you tonight between 7 and 10annetteschérer', 'heavens what a virulent attack replied the prince not in theleast disconcerted by this reception', 'he had just entered wearing anembroidered court uniform knee breeches and shoes and had stars onhis breast and a serene expression on his flat face', 'he spoke in thatrefined french in which our grandfathers not only spoke but thought andwith the gentle patronizing intonation natural to a man of importancewho had grown old in society and at court', 'he went up to anna pávlovnakissed her hand presenting to her his bald scented and shining headand complacently seated himself on the sofa', 'first of all dear friend tell me how you are', 'set your friendsmind at rest said he without altering his tone beneath thepoliteness and affected sympathy of which indifference and even ironycould be discerned', 'can one be well while suffering morally can one be calm in timeslike these if one has any feeling said anna pávlovna', 'you arestaying the whole evening i hopeand the fete at the english ambassadors today is wednesday', 'imust put in an appearance there said the prince', 'my daughter iscoming for me to take me there', 'i thought todays fete had been canceled', 'i confess all thesefestivities and fireworks are becoming wearisome', 'if they had known that you wished it the entertainment would havebeen put off said the prince who like a woundup clock by forceof habit said things he did not even wish to be believed', 'dont tease well and what has been decided about novosíltsevsdispatch you know everything', 'what can one say about it replied the prince in a cold listlesstone', 'what has been decided they have decided that buonaparte hasburnt his boats and i believe that we are ready to burn ours', 'prince vasíli always spoke languidly like an actor repeating a stalepart', 'anna pávlovna schérer on the contrary despite her forty yearsoverflowed with animation and impulsiveness', 'to be an enthusiast hadbecome her social vocation and sometimes even when she did notfeel like it she became enthusiastic in order not to disappoint theexpectations of those who knew her', 'the subdued smile which though itdid not suit her faded features always played round her lips expressedas in a spoiled child a continual consciousness of her charming defectwhich she neither wished nor could nor considered it necessary tocorrect', 'in the midst of a conversation on political matters anna pávlovna burstoutoh dont speak to me of austria', 'perhaps i dont understandthings but austria never has wished and does not wish for war', 'sheis betraying us russia alone must save europe', 'our gracious sovereignrecognizes his high vocation and will be true to it', 'that is the onething i have faith in our good and wonderful sovereign has to performthe noblest role on earth and he is so virtuous and noble that god willnot forsake him', 'he will fulfill his vocation and crush the hydra ofrevolution which has become more terrible than ever in the person ofthis murderer and villain we alone must avenge the blood of the justone', '', '', '', 'whom i ask you can we rely on', '', '', 'england with her commercialspirit will not and cannot understand the emperor alexandersloftiness of soul', 'she has refused to evacuate malta', 'she wanted tofind and still seeks some secret motive in our actions', 'what answerdid novosíltsev get none', 'the english have not understood and cannotunderstand the selfabnegation of our emperor who wants nothing forhimself but only desires the good of mankind', 'and what have theypromised nothing and what little they have promised they will notperform prussia has always declared that buonaparte is invincible andthat all europe is powerless before him', '', '', '', 'and i dont believe aword that hardenburg says or haugwitz either', 'this famous prussianneutrality is just a trap', 'i have faith only in god and the loftydestiny of our adored monarch', 'he will save europeshe suddenly paused smiling at her own impetuosity', 'i think said the prince with a smile that if you had beensent instead of our dear wintzingerode you would have captured the kingof prussias consent by assault', 'you are so eloquent', 'will you give mea cup of teain a moment', 'à propos she added becoming calm again i amexpecting two very interesting men tonight le vicomte de mortemart whois connected with the montmorencys through the rohans one of the bestfrench families', 'he is one of the genuine émigrés the good ones', 'andalso the abbé morio', 'do you know that profound thinker he has beenreceived by the emperor', 'had you heardi shall be delighted to meet them said the prince', 'buttell me he added with studied carelessness as if it had only justoccurred to him though the question he was about to ask was the chiefmotive of his visit is it true that the dowager empress wantsbaron funke to be appointed first secretary at vienna the baron by allaccounts is a poor creature', 'prince vasíli wished to obtain this post for his son but others weretrying through the dowager empress márya fëdorovna to secure it forthe baron', 'anna pávlovna almost closed her eyes to indicate that neither she noranyone else had a right to criticize what the empress desired or waspleased with', 'baron funke has been recommended to the dowager empress by hersister was all she said in a dry and mournful tone', 'as she named the empress anna pávlovnas face suddenly assumed anexpression of profound and sincere devotion and respect mingled withsadness and this occurred every time she mentioned her illustriouspatroness', 'she added that her majesty had deigned to show baron funkebeaucoup destime and again her face clouded over with sadness', 'the prince was silent and looked indifferent', 'but with the womanly andcourtierlike quickness and tact habitual to her anna pávlovnawished both to rebuke him for daring to speak as he had done of a manrecommended to the empress and at the same time to console him so shesaidnow about your family', 'do you know that since your daughter cameout everyone has been enraptured by her they say she is amazinglybeautiful', 'the prince bowed to signify his respect and gratitude', 'i often think she continued after a short pause drawing nearerto the prince and smiling amiably at him as if to show that politicaland social topics were ended and the time had come for intimateconversationi often think how unfairly sometimes the joys of lifeare distributed', 'why has fate given you two such splendid childreni dont speak of anatole your youngest', 'i dont like him sheadded in a tone admitting of no rejoinder and raising her eyebrows', 'two such charming children', 'and really you appreciate them less thananyone and so you dont deserve to have them', 'and she smiled her ecstatic smile', 'i cant help it said the prince', 'lavater would have said ilack the bump of paternity', 'dont joke i mean to have a serious talk with you', 'do you knowi am dissatisfied with your younger son between ourselves and herface assumed its melancholy expression he was mentioned at hermajestys and you were pitied', '', '', '', 'the prince answered nothing but she looked at him significantlyawaiting a reply', 'he frowned', 'what would you have me do he said at last', 'you know i did alla father could for their education and they have both turned out fools', 'hippolyte is at least a quiet fool but anatole is an active one', 'thatis the only difference between them', 'he said this smiling in a waymore natural and animated than usual so that the wrinkles roundhis mouth very clearly revealed something unexpectedly coarse andunpleasant', 'and why are children born to such men as you if you were not afather there would be nothing i could reproach you with said annapávlovna looking up pensively', 'i am your faithful slave and to you alone i can confess that mychildren are the bane of my life', 'it is the cross i have to bear', 'thatis how i explain it to myself', 'it cant be helpedhe said no more but expressed his resignation to cruel fate by agesture', 'anna pávlovna meditated', 'have you never thought of marrying your prodigal son anatole sheasked', 'they say old maids have a mania for matchmaking and though idont feel that weakness in myself as yet i know a little person whois very unhappy with her father', 'she is a relation of yours princessmary bolkónskaya', 'prince vasíli did not reply though with the quickness of memory andperception befitting a man of the world he indicated by a movement ofthe head that he was considering this information', 'do you know he said at last evidently unable to check the sadcurrent of his thoughts that anatole is costing me forty thousandrubles a year and he went on after a pause what will it be infive years if he goes on like this presently he added thatswhat we fathers have to put up with', '', '', '', 'is this princess of yoursrichher father is very rich and stingy', 'he lives in the country', 'he isthe wellknown prince bolkónski who had to retire from the army underthe late emperor and was nicknamed the king of prussia', 'he isvery clever but eccentric and a bore', 'the poor girl is very unhappy', 'she has a brother i think you know him he married lise meinen lately', 'he is an aidedecamp of kutúzovs and will be here tonight', 'listen dear annette said the prince suddenly taking annapávlovnas hand and for some reason drawing it downwards', 'arrangethat affair for me and i shall always be your most devoted slaveslafewith an f as a village elder of mine writes in his reports', 'she is richand of good family and thats all i want', 'and with the familiarity and easy grace peculiar to him he raised themaid of honors hand to his lips kissed it and swung it to and froas he lay back in his armchair looking in another direction', 'attendez said anna pávlovna reflecting ill speak tolise young bolkónskis wife this very evening and perhaps thething can be arranged', 'it shall be on your familys behalf that illstart my apprenticeship as old maid', 'chapter iianna pávlovnas drawing room was gradually filling', 'the highestpetersburg society was assembled there people differing widely in ageand character but alike in the social circle to which they belonged', 'prince vasílis daughter the beautiful hélène came to take herfather to the ambassadors entertainment she wore a ball dress andher badge as maid of honor', 'the youthful little princess bolkónskayaknown as la femme la plus séduisante de pétersbourg was also there', 'she had been married during the previous winter and being pregnant didnot go to any large gatherings but only to small receptions', 'princevasílis son hippolyte had come with mortemart whom he introduced', 'the abbé morio and many others had also come', 'the most fascinating woman in petersburg', 'to each new arrival anna pávlovna said you have not yet seen myaunt or you do not know my aunt and very gravely conductedhim or her to a little old lady wearing large bows of ribbon in hercap who had come sailing in from another room as soon as the guestsbegan to arrive and slowly turning her eyes from the visitor to heraunt anna pávlovna mentioned each ones name and then left them', 'each visitor performed the ceremony of greeting this old aunt whom notone of them knew not one of them wanted to know and not one of themcared about anna pávlovna observed these greetings with mournful andsolemn interest and silent approval', 'the aunt spoke to each of them inthe same words about their health and her own and the health of hermajesty who thank god was better today', 'and each visitorthough politeness prevented his showing impatience left the old womanwith a sense of relief at having performed a vexatious duty and did notreturn to her the whole evening', 'the young princess bolkónskaya had brought some work in agoldembroidered velvet bag', 'her pretty little upper lip on which adelicate dark down was just perceptible was too short for her teethbut it lifted all the more sweetly and was especially charming when sheoccasionally drew it down to meet the lower lip', 'as is always the casewith a thoroughly attractive woman her defectthe shortness of herupper lip and her halfopen mouthseemed to be her own special andpeculiar form of beauty', 'everyone brightened at the sight of this prettyyoung woman so soon to become a mother so full of life and health andcarrying her burden so lightly', 'old men and dull dispirited young oneswho looked at her after being in her company and talking to her alittle while felt as if they too were becoming like her full of lifeand health', 'all who talked to her and at each word saw her bright smileand the constant gleam of her white teeth thought that they were in aspecially amiable mood that day', 'the little princess went round the table with quick short swayingsteps her workbag on her arm and gaily spreading out her dress satdown on a sofa near the silver samovar as if all she was doing was apleasure to herself and to all around her', 'i have brought my worksaid she in french displaying her bag and addressing all present', 'mind annette i hope you have not played a wicked trick on meshe added turning to her hostess', 'you wrote that it was to be quitea small reception and just see how badly i am dressed', 'and shespread out her arms to show her shortwaisted lacetrimmed dainty graydress girdled with a broad ribbon just below the breast', 'soyez tranquille lise you will always be prettier than anyoneelse replied anna pávlovna', 'you know said the princess in the same tone of voice and still infrench turning to a general my husband is deserting me he is goingto get himself killed', 'tell me what this wretched war is for sheadded addressing prince vasíli and without waiting for an answer sheturned to speak to his daughter the beautiful hélène', 'what a delightful woman this little princess is said princevasíli to anna pávlovna', 'one of the next arrivals was a stout heavily built young man withclosecropped hair spectacles the lightcolored breeches fashionableat that time a very high ruffle and a brown dress coat', 'this stoutyoung man was an illegitimate son of count bezúkhov a wellknowngrandee of catherines time who now lay dying in moscow', 'the young manhad not yet entered either the military or civil service as he had onlyjust returned from abroad where he had been educated and this was hisfirst appearance in society', 'anna pávlovna greeted him with the nod sheaccorded to the lowest hierarchy in her drawing room', 'but in spite ofthis lowestgrade greeting a look of anxiety and fear as at the sightof something too large and unsuited to the place came over her facewhen she saw pierre enter', 'though he was certainly rather bigger thanthe other men in the room her anxiety could only have reference tothe clever though shy but observant and natural expression whichdistinguished him from everyone else in that drawing room', 'it is very good of you monsieur pierre to come and visit a poorinvalid said anna pávlovna exchanging an alarmed glance with heraunt as she conducted him to her', 'pierre murmured something unintelligible and continued to look round asif in search of something', 'on his way to the aunt he bowed to the littleprincess with a pleased smile as to an intimate acquaintance', 'anna pávlovnas alarm was justified for pierre turned away from theaunt without waiting to hear her speech about her majestys health', 'anna pávlovna in dismay detained him with the words do you know theabbé morio he is a most interesting man', 'yes i have heard of his scheme for perpetual peace and it is veryinteresting but hardly feasible', 'you think so rejoined anna pávlovna in order to say somethingand get away to attend to her duties as hostess', 'but pierre nowcommitted a reverse act of impoliteness', 'first he had left a lady beforeshe had finished speaking to him and now he continued to speak toanother who wished to get away', 'with his head bent and his big feetspread apart he began explaining his reasons for thinking the abbésplan chimerical', 'we will talk of it later said anna pávlovna with a smile', 'and having got rid of this young man who did not know how to behave sheresumed her duties as hostess and continued to listen and watch readyto help at any point where the conversation might happen to flag', 'asthe foreman of a spinning mill when he has set the hands to work goesround and notices here a spindle that has stopped or there one thatcreaks or makes more noise than it should and hastens to check themachine or set it in proper motion so anna pávlovna moved about herdrawing room approaching now a silent now a toonoisy group and by aword or slight rearrangement kept the conversational machine in steadyproper and regular motion', 'but amid these cares her anxiety aboutpierre was evident', 'she kept an anxious watch on him when he approachedthe group round mortemart to listen to what was being said there andagain when he passed to another group whose center was the abbé', 'pierre had been educated abroad and this reception at annapávlovnas was the first he had attended in russia', 'he knew that allthe intellectual lights of petersburg were gathered there and like achild in a toyshop did not know which way to look afraid of missingany clever conversation that was to be heard', 'seeing the selfconfidentand refined expression on the faces of those present he was alwaysexpecting to hear something very profound', 'at last he came up to morio', 'here the conversation seemed interesting and he stood waiting for anopportunity to express his own views as young people are fond of doing', 'chapter iiianna pávlovnas reception was in full swing', 'the spindles hummedsteadily and ceaselessly on all sides', 'with the exception of the auntbeside whom sat only one elderly lady who with her thin careworn facewas rather out of place in this brilliant society the whole company hadsettled into three groups', 'one chiefly masculine had formed roundthe abbé', 'another of young people was grouped round the beautifulprincess hélène prince vasílis daughter and the little princessbolkónskaya very pretty and rosy though rather too plump for her age', 'the third group was gathered round mortemart and anna pávlovna', 'the vicomte was a nicelooking young man with soft features and polishedmanners who evidently considered himself a celebrity but out ofpoliteness modestly placed himself at the disposal of the circle inwhich he found himself', 'anna pávlovna was obviously serving him up asa treat to her guests', 'as a clever maître dhôtel serves up as aspecially choice delicacy a piece of meat that no one who had seen it inthe kitchen would have cared to eat so anna pávlovna served up toher guests first the vicomte and then the abbé as peculiarly choicemorsels', 'the group about mortemart immediately began discussing themurder of the duc denghien', 'the vicomte said that the duc denghienhad perished by his own magnanimity and that there were particularreasons for buonapartes hatred of him', 'ah yes do tell us all about it vicomte said anna pávlovnawith a pleasant feeling that there was something à la louis xv in thesound of that sentence contez nous çela vicomte', 'the vicomte bowed and smiled courteously in token of his willingness tocomply', 'anna pávlovna arranged a group round him inviting everyone tolisten to his tale', 'the vicomte knew the duc personally whispered anna pávlovna toone of the guests', 'the vicomte is a wonderful raconteur said sheto another', 'how evidently he belongs to the best society said sheto a third and the vicomte was served up to the company in the choicestand most advantageous style like a wellgarnished joint of roast beefon a hot dish', 'the vicomte wished to begin his story and gave a subtle smile', 'come over here hélène dear said anna pávlovna to thebeautiful young princess who was sitting some way off the center ofanother group', 'the princess smiled', 'she rose with the same unchanging smile with whichshe had first entered the roomthe smile of a perfectly beautifulwoman', 'with a slight rustle of her white dress trimmed with mossand ivy with a gleam of white shoulders glossy hair and sparklingdiamonds she passed between the men who made way for her not lookingat any of them but smiling on all as if graciously allowing each theprivilege of admiring her beautiful figure and shapely shouldersback and bosomwhich in the fashion of those days were very muchexposedand she seemed to bring the glamour of a ballroom with her asshe moved toward anna pávlovna', 'hélène was so lovely that not onlydid she not show any trace of coquetry but on the contrary she evenappeared shy of her unquestionable and all too victorious beauty', 'sheseemed to wish but to be unable to diminish its effect', 'how lovely said everyone who saw her and the vicomte lifted hisshoulders and dropped his eyes as if startled by something extraordinarywhen she took her seat opposite and beamed upon him also with herunchanging smile', 'madame i doubt my ability before such an audience said hesmilingly inclining his head', 'the princess rested her bare round arm on a little table and considereda reply unnecessary', 'she smilingly waited', 'all the time the story wasbeing told she sat upright glancing now at her beautiful round armaltered in shape by its pressure on the table now at her still morebeautiful bosom on which she readjusted a diamond necklace', 'from timeto time she smoothed the folds of her dress and whenever the storyproduced an effect she glanced at anna pávlovna at once adopted justthe expression she saw on the maid of honors face and again relapsedinto her radiant smile', 'the little princess had also left the tea table and followed hélène', 'wait a moment ill get my work', '', '', '', 'now then what are youthinking of she went on turning to prince hippolyte', 'fetch me myworkbag', 'there was a general movement as the princess smiling and talkingmerrily to everyone at once sat down and gaily arranged herself in herseat', 'now i am all right she said and asking the vicomte to begin shetook up her work', 'prince hippolyte having brought the workbag joined the circle andmoving a chair close to hers seated himself beside her', 'le charmant hippolyte was surprising by his extraordinary resemblanceto his beautiful sister but yet more by the fact that in spite ofthis resemblance he was exceedingly ugly', 'his features were like hissisters but while in her case everything was lit up by a joyousselfsatisfied youthful and constant smile of animation and by thewonderful classic beauty of her figure his face on the contrarywas dulled by imbecility and a constant expression of sullenselfconfidence while his body was thin and weak', 'his eyes nose andmouth all seemed puckered into a vacant wearied grimace and his armsand legs always fell into unnatural positions', 'its not going to be a ghost story said he sitting down besidethe princess and hastily adjusting his lorgnette as if without thisinstrument he could not begin to speak', 'why no my dear fellow said the astonished narrator shrugginghis shoulders', 'because i hate ghost stories said prince hippolyte in a tonewhich showed that he only understood the meaning of his words after hehad uttered them', 'he spoke with such selfconfidence that his hearers could not be surewhether what he said was very witty or very stupid', 'he was dressed ina darkgreen dress coat knee breeches of the color of cuisse de nympheeffrayée as he called it shoes and silk stockings', 'the vicomte told his tale very neatly', 'it was an anecdote then currentto the effect that the duc denghien had gone secretly to paris tovisit mademoiselle george that at her house he came upon bonapartewho also enjoyed the famous actress favors and that in his presencenapoleon happened to fall into one of the fainting fits to which he wassubject and was thus at the ducs mercy', 'the latter spared him andthis magnanimity bonaparte subsequently repaid by death', 'the story was very pretty and interesting especially at the pointwhere the rivals suddenly recognized one another and the ladies lookedagitated', 'charming said anna pávlovna with an inquiring glance at thelittle princess', 'charming whispered the little princess sticking the needle intoher work as if to testify that the interest and fascination of the storyprevented her from going on with it', 'the vicomte appreciated this silent praise and smiling gratefullyprepared to continue but just then anna pávlovna who had kept awatchful eye on the young man who so alarmed her noticed that he wastalking too loudly and vehemently with the abbé so she hurried to therescue', 'pierre had managed to start a conversation with the abbé aboutthe balance of power and the latter evidently interested by the youngmans simpleminded eagerness was explaining his pet theory', 'bothwere talking and listening too eagerly and too naturally which was whyanna pávlovna disapproved', 'the means are', '', '', 'the balance of power in europe and the rights ofthe people the abbé was saying', 'it is only necessary for onepowerful nation like russiabarbaric as she is said to beto placeherself disinterestedly at the head of an alliance having for its objectthe maintenance of the balance of power of europe and it would save theworldbut how are you to get that balance pierre was beginning', 'at that moment anna pávlovna came up and looking severely at pierreasked the italian how he stood russian climate', 'the italiansface instantly changed and assumed an offensively affected sugaryexpression evidently habitual to him when conversing with women', 'i am so enchanted by the brilliancy of the wit and culture of thesociety more especially of the feminine society in which i have hadthe honor of being received that i have not yet had time to think ofthe climate said he', 'not letting the abbé and pierre escape anna pávlovna the moreconveniently to keep them under observation brought them into thelarger circle', 'chapter ivjust then another visitor entered the drawing room prince andrewbolkónski the little princess husband', 'he was a very handsome youngman of medium height with firm clearcut features', 'everything abouthim from his weary bored expression to his quiet measured stepoffered a most striking contrast to his quiet little wife', 'it wasevident that he not only knew everyone in the drawing room but hadfound them to be so tiresome that it wearied him to look at or listen tothem', 'and among all these faces that he found so tedious none seemedto bore him so much as that of his pretty wife', 'he turned away fromher with a grimace that distorted his handsome face kissed annapávlovnas hand and screwing up his eyes scanned the whole company', 'you are off to the war prince said anna pávlovna', 'general kutúzov said bolkónski speaking french and stressingthe last syllable of the generals name like a frenchman has beenpleased to take me as an aidedecamp', '', '', '', 'and lise your wifeshe will go to the country', 'are you not ashamed to deprive us of your charming wifeandré said his wife addressing her husband in the samecoquettish manner in which she spoke to other men the vicomte hasbeen telling us such a tale about mademoiselle george and buonaparteprince andrew screwed up his eyes and turned away', 'pierre who fromthe moment prince andrew entered the room had watched him with gladaffectionate eyes now came up and took his arm', 'before he looked roundprince andrew frowned again expressing his annoyance with whoever wastouching his arm but when he saw pierres beaming face he gave him anunexpectedly kind and pleasant smile', 'there now', '', '', 'so you too are in the great world said he topierre', 'i knew you would be here replied pierre', 'i will come to supperwith you', 'may i he added in a low voice so as not to disturb thevicomte who was continuing his story', 'no impossible said prince andrew laughing and pressingpierres hand to show that there was no need to ask the question', 'hewished to say something more but at that moment prince vasíli and hisdaughter got up to go and the two young men rose to let them pass', 'you must excuse me dear vicomte said prince vasíli to thefrenchman holding him down by the sleeve in a friendly way to preventhis rising', 'this unfortunate fete at the ambassadors deprives meof a pleasure and obliges me to interrupt you', 'i am very sorry to leaveyour enchanting party said he turning to anna pávlovna', 'his daughter princess hélène passed between the chairs lightlyholding up the folds of her dress and the smile shone still moreradiantly on her beautiful face', 'pierre gazed at her with rapturousalmost frightened eyes as she passed him', 'very lovely said prince andrew', 'very said pierre', 'in passing prince vasíli seized pierres hand and said to annapávlovna educate this bear for me he has been staying with mea whole month and this is the first time i have seen him in society', 'nothing is so necessary for a young man as the society of cleverwomen', 'anna pávlovna smiled and promised to take pierre in hand', 'she knew hisfather to be a connection of prince vasílis', 'the elderly lady whohad been sitting with the old aunt rose hurriedly and overtook princevasíli in the anteroom', 'all the affectation of interest she had assumedhad left her kindly and tearworn face and it now expressed only anxietyand fear', 'how about my son borís prince said she hurrying after him intothe anteroom', 'i cant remain any longer in petersburg', 'tell me whatnews i may take back to my poor boy', 'although prince vasíli listened reluctantly and not very politelyto the elderly lady even betraying some impatience she gave him aningratiating and appealing smile and took his hand that he might not goaway', 'what would it cost you to say a word to the emperor and then hewould be transferred to the guards at once said she', 'believe me princess i am ready to do all i can answered princevasíli but it is difficult for me to ask the emperor', 'i shouldadvise you to appeal to rumyántsev through prince golítsyn', 'that wouldbe the best way', 'the elderly lady was a princess drubetskáya belonging to one of thebest families in russia but she was poor and having long been out ofsociety had lost her former influential connections', 'she had now come topetersburg to procure an appointment in the guards for her only son', 'it was in fact solely to meet prince vasíli that she had obtained aninvitation to anna pávlovnas reception and had sat listening tothe vicomtes story', 'prince vasílis words frightened her anembittered look clouded her once handsome face but only for a momentthen she smiled again and clutched prince vasílis arm more tightly', 'listen to me prince said she', 'i have never yet asked youfor anything and i never will again nor have i ever reminded you of myfathers friendship for you but now i entreat you for gods sake todo this for my sonand i shall always regard you as a benefactorshe added hurriedly', 'no dont be angry but promise i have askedgolítsyn and he has refused', 'be the kindhearted man you always wereshe said trying to smile though tears were in her eyes', 'papa we shall be late said princess hélène turning herbeautiful head and looking over her classically molded shoulder as shestood waiting by the door', 'influence in society however is a capital which has to be economizedif it is to last', 'prince vasíli knew this and having once realizedthat if he asked on behalf of all who begged of him he would soon beunable to ask for himself he became chary of using his influence', 'butin princess drubetskáyas case he felt after her second appealsomething like qualms of conscience', 'she had reminded him of what wasquite true he had been indebted to her father for the first steps inhis career', 'moreover he could see by her manners that she was one ofthose womenmostly motherswho having once made up their mindswill not rest until they have gained their end and are prepared ifnecessary to go on insisting day after day and hour after hour and evento make scenes', 'this last consideration moved him', 'my dear anna mikháylovna said he with his usual familiarity andweariness of tone it is almost impossible for me to do what youask but to prove my devotion to you and how i respect your fathersmemory i will do the impossibleyour son shall be transferred to theguards', 'here is my hand on it', 'are you satisfiedmy dear benefactor this is what i expected from youi knew yourkindness he turned to go', 'waitjust a word when he has been transferred to the guards', '', '', 'she faltered', 'you are on good terms with michael ilariónovichkutúzov', '', '', 'recommend borís to him as adjutant then i shall be atrest and then', '', '', 'prince vasíli smiled', 'no i wont promise that', 'you dont know how kutúzov is pesteredsince his appointment as commander in chief', 'he told me himself thatall the moscow ladies have conspired to give him all their sons asadjutants', 'no but do promise i wont let you go my dear benefactor', '', '', 'papa said his beautiful daughter in the same tone as beforewe shall be late', 'well au revoir goodby you hear herthen tomorrow you will speak to the emperorcertainly but about kutúzov i dont promise', 'do promise do promise vasíli cried anna mikháylovna as hewent with the smile of a coquettish girl which at one time probablycame naturally to her but was now very illsuited to her careworn face', 'apparently she had forgotten her age and by force of habit employedall the old feminine arts', 'but as soon as the prince had gone her faceresumed its former cold artificial expression', 'she returned to thegroup where the vicomte was still talking and again pretended tolisten while waiting till it would be time to leave', 'her task wasaccomplished', 'chapter vand what do you think of this latest comedy the coronation atmilan asked anna pávlovna and of the comedy of the people ofgenoa and lucca laying their petitions before monsieur buonaparte andmonsieur buonaparte sitting on a throne and granting the petitions ofthe nations adorable it is enough to make ones head whirl it is asif the whole world had gone crazy', 'prince andrew looked anna pávlovna straight in the face with asarcastic smile', 'dieu me la donne gare à qui la touche they say he wasvery fine when he said that he remarked repeating the words initalian dio mi lha dato', 'guai a chi la tocchi god has given it to me let him who touches it bewarei hope this will prove the last drop that will make the glass runover anna pávlovna continued', 'the sovereigns will not be able toendure this man who is a menace to everything', 'the sovereigns i do not speak of russia said the vicomte politebut hopeless the sovereigns madame', '', '', 'what have they done for louisxvii for the queen or for madame elizabeth nothing and he becamemore animated', 'and believe me they are reaping the reward of theirbetrayal of the bourbon cause', 'the sovereigns why they are sendingambassadors to compliment the usurper', 'and sighing disdainfully he again changed his position', 'prince hippolyte who had been gazing at the vicomte for some timethrough his lorgnette suddenly turned completely round toward thelittle princess and having asked for a needle began tracing the condécoat of arms on the table', 'he explained this to her with as much gravityas if she had asked him to do it', 'bâton de gueules engrêlé de gueules dazurmaison condésaid he', 'the princess listened smiling', 'if buonaparte remains on the throne of france a year longer thevicomte continued with the air of a man who in a matter with whichhe is better acquainted than anyone else does not listen to others butfollows the current of his own thoughts things will have gone toofar', 'by intrigues violence exile and executions french societyimean good french societywill have been forever destroyed andthen', '', '', '', 'he shrugged his shoulders and spread out his hands', 'pierre wished tomake a remark for the conversation interested him but anna pávlovnawho had him under observation interruptedthe emperor alexander said she with the melancholy whichalways accompanied any reference of hers to the imperial family hasdeclared that he will leave it to the french people themselves to choosetheir own form of government and i believe that once free from theusurper the whole nation will certainly throw itself into the armsof its rightful king she concluded trying to be amiable to theroyalist emigrant', 'that is doubtful said prince andrew', 'monsieur le vicomte quiterightly supposes that matters have already gone too far', 'i think it willbe difficult to return to the old regime', 'from what i have heard said pierre blushing and breaking intothe conversation almost all the aristocracy has already gone over tobonapartes side', 'it is the buonapartists who say that replied the vicomte withoutlooking at pierre', 'at the present time it is difficult to know thereal state of french public opinion', 'bonaparte has said so remarked prince andrew with a sarcasticsmile', 'it was evident that he did not like the vicomte and was aiming hisremarks at him though without looking at him', 'i showed them the path to glory but they did not followit prince andrew continued after a short silence again quotingnapoleons words', 'i opened my antechambers and they crowdedin', 'i do not know how far he was justified in saying so', 'not in the least replied the vicomte', 'after the murder of theduc even the most partial ceased to regard him as a hero', 'if to somepeople he went on turning to anna pávlovna he ever was a heroafter the murder of the duc there was one martyr more in heaven and onehero less on earth', 'before anna pávlovna and the others had time to smile theirappreciation of the vicomtes epigram pierre again broke into theconversation and though anna pávlovna felt sure he would say somethinginappropriate she was unable to stop him', 'the execution of the duc denghien declared monsieur pierrewas a political necessity and it seems to me that napoleonshowed greatness of soul by not fearing to take on himself the wholeresponsibility of that deed', 'dieu mon dieu muttered anna pávlovna in a terrified whisper', 'what monsieur pierre', '', '', 'do you consider that assassination showsgreatness of soul said the little princess smiling and drawing herwork nearer to her', 'oh oh exclaimed several voices', 'capital said prince hippolyte in english and began slapping hisknee with the palm of his hand', 'the vicomte merely shrugged his shoulders', 'pierre looked solemnly at hisaudience over his spectacles and continued', 'i say so he continued desperately because the bourbons fledfrom the revolution leaving the people to anarchy and napoleon aloneunderstood the revolution and quelled it and so for the general goodhe could not stop short for the sake of one mans life', 'wont you come over to the other table suggested annapávlovna', 'but pierre continued his speech without heeding her', 'no cried he becoming more and more eager napoleon is greatbecause he rose superior to the revolution suppressed its abusespreserved all that was good in itequality of citizenship and freedomof speech and of the pressand only for that reason did he obtainpower', 'yes if having obtained power without availing himself of it tocommit murder he had restored it to the rightful king i should havecalled him a great man remarked the vicomte', 'he could not do that', 'the people only gave him power that he mightrid them of the bourbons and because they saw that he was a greatman', 'the revolution was a grand thing continued monsieur pierrebetraying by this desperate and provocative proposition his extremeyouth and his wish to express all that was in his mind', 'what revolution and regicide a grand thing', '', '', 'well after that', '', '', 'but wont you come to this other table repeated anna pávlovna', 'rousseaus contrat social said the vicomte with a tolerantsmile', 'i am not speaking of regicide i am speaking about ideas', 'yes ideas of robbery murder and regicide again interjected anironical voice', 'those were extremes no doubt but they are not what is mostimportant', 'what is important are the rights of man emancipation fromprejudices and equality of citizenship and all these ideas napoleonhas retained in full force', 'liberty and equality said the vicomte contemptuously as if atlast deciding seriously to prove to this youth how foolish his wordswere highsounding words which have long been discredited', 'who doesnot love liberty and equality even our saviour preached liberty andequality', 'have people since the revolution become happier on thecontrary', 'we wanted liberty but buonaparte has destroyed it', 'prince andrew kept looking with an amused smile from pierre to thevicomte and from the vicomte to their hostess', 'in the first moment ofpierres outburst anna pávlovna despite her social experience washorrorstruck', 'but when she saw that pierres sacrilegious wordshad not exasperated the vicomte and had convinced herself that it wasimpossible to stop him she rallied her forces and joined the vicomte ina vigorous attack on the orator', 'but my dear monsieur pierre said she how do you explain thefact of a great man executing a ducor even an ordinary man whoisinnocent and untriedi should like said the vicomte to ask how monsieur explainsthe 18th brumaire was not that an imposture it was a swindle and notat all like the conduct of a great manand the prisoners he killed in africa that was horrible said thelittle princess shrugging her shoulders', 'hes a low fellow say what you will remarked prince hippolyte', 'pierre not knowing whom to answer looked at them all and smiled', 'hissmile was unlike the halfsmile of other people', 'when he smiledhis grave even rather gloomy look was instantaneously replaced byanothera childlike kindly even rather silly look which seemed toask forgiveness', 'the vicomte who was meeting him for the first time saw clearly thatthis young jacobin was not so terrible as his words suggested', 'all weresilent', 'how do you expect him to answer you all at once said princeandrew', 'besides in the actions of a statesman one has to distinguishbetween his acts as a private person as a general and as an emperor', 'so it seems to me', 'yes yes of course pierre chimed in pleased at the arrival ofthis reinforcement', 'one must admit continued prince andrew that napoleon as a manwas great on the bridge of arcola and in the hospital at jaffa where hegave his hand to the plaguestricken but', '', '', 'but there are other actswhich it is difficult to justify', 'prince andrew who had evidently wished to tone down the awkwardness ofpierres remarks rose and made a sign to his wife that it was time togo', 'suddenly prince hippolyte started up making signs to everyone to attendand asking them all to be seated begani was told a charming moscow story today and must treat you to it', 'excuse me vicomtei must tell it in russian or the point will belost', '', '', '', 'and prince hippolyte began to tell his story in such russianas a frenchman would speak after spending about a year in russia', 'everyone waited so emphatically and eagerly did he demand theirattention to his story', 'there is in moscow a lady une dame and she is very stingy', 'she musthave two footmen behind her carriage and very big ones', 'that was hertaste', 'and she had a ladys maid also big', 'she said', '', '', '', 'here prince hippolyte paused evidently collecting his ideas withdifficulty', 'she said', '', '', '', 'oh yes she said girl to the maid put on alivery get up behind the carriage and come with me while i make somecalls', 'here prince hippolyte spluttered and burst out laughing long before hisaudience which produced an effect unfavorable to the narrator', 'severalpersons among them the elderly lady and anna pávlovna did howeversmile', 'she went', 'suddenly there was a great wind', 'the girl lost her hat andher long hair came down', '', '', '', 'here he could contain himself nolonger and went on between gasps of laughter and the whole worldknew', '', '', '', 'and so the anecdote ended', 'though it was unintelligible why he had toldit or why it had to be told in russian still anna pávlovna and theothers appreciated prince hippolytes social tact in so agreeablyending pierres unpleasant and unamiable outburst', 'after the anecdotethe conversation broke up into insignificant small talk about the lastand next balls about theatricals and who would meet whom and when andwhere', 'chapter vihaving thanked anna pávlovna for her charming soiree the guests beganto take their leave', 'pierre was ungainly', 'stout about the average height broad with hugered hands he did not know as the saying is how to enter a drawingroom and still less how to leave one that is how to say somethingparticularly agreeable before going away', 'besides this he wasabsentminded', 'when he rose to go he took up instead of his own thegenerals threecornered hat and held it pulling at the plumetill the general asked him to restore it', 'all his absentmindedness andinability to enter a room and converse in it was however redeemed byhis kindly simple and modest expression', 'anna pávlovna turned towardhim and with a christian mildness that expressed forgiveness of hisindiscretion nodded and said i hope to see you again but i alsohope you will change your opinions my dear monsieur pierre', 'when she said this he did not reply and only bowed but again everybodysaw his smile which said nothing unless perhaps opinions areopinions but you see what a capital goodnatured fellow i am', 'andeveryone including anna pávlovna felt this', 'prince andrew had gone out into the hall and turning his shouldersto the footman who was helping him on with his cloak listenedindifferently to his wifes chatter with prince hippolyte who had alsocome into the hall', 'prince hippolyte stood close to the pretty pregnantprincess and stared fixedly at her through his eyeglass', 'go in annette or you will catch cold said the little princesstaking leave of anna pávlovna', 'it is settled she added in a lowvoice', 'anna pávlovna had already managed to speak to lise about the match shecontemplated between anatole and the little princess sisterinlaw', 'i rely on you my dear said anna pávlovna also in a low tone', 'write to her and let me know how her father looks at the matter', 'aurevoir and she left the hall', 'prince hippolyte approached the little princess and bending his faceclose to her began to whisper something', 'two footmen the princess and his own stood holding a shawl anda cloak waiting for the conversation to finish', 'they listened tothe french sentences which to them were meaningless with an air ofunderstanding but not wishing to appear to do so', 'the princess as usualspoke smilingly and listened with a laugh', 'i am very glad i did not go to the ambassadors said princehippolyte so dull', 'it has been a delightful evening has itnot delightfulthey say the ball will be very good replied the princess drawingup her downy little lip', 'all the pretty women in society will bethere', 'not all for you will not be there not all said prince hippolytesmiling joyfully and snatching the shawl from the footman whom heeven pushed aside he began wrapping it round the princess', 'either fromawkwardness or intentionally no one could have said which after theshawl had been adjusted he kept his arm around her for a long time asthough embracing her', 'still smiling she gracefully moved away turning and glancing at herhusband', 'prince andrews eyes were closed so weary and sleepy did heseem', 'are you ready he asked his wife looking past her', 'prince hippolyte hurriedly put on his cloak which in the latest fashionreached to his very heels and stumbling in it ran out into the porchfollowing the princess whom a footman was helping into the carriage', 'princesse au revoir cried he stumbling with his tongue as wellas with his feet', 'the princess picking up her dress was taking her seat in the darkcarriage her husband was adjusting his saber prince hippolyte underpretense of helping was in everyones way', 'allow me sir said prince andrew in russian in a colddisagreeable tone to prince hippolyte who was blocking his path', 'i am expecting you pierre said the same voice but gently andaffectionately', 'the postilion started the carriage wheels rattled', 'prince hippolytelaughed spasmodically as he stood in the porch waiting for the vicomtewhom he had promised to take home', 'well mon cher said the vicomte having seated himself besidehippolyte in the carriage your little princess is very nice verynice indeed quite french and he kissed the tips of his fingers', 'hippolyte burst out laughing', 'do you know you are a terrible chap for all your innocent airscontinued the vicomte', 'i pity the poor husband that little officerwho gives himself the airs of a monarch', 'hippolyte spluttered again and amid his laughter said and you weresaying that the russian ladies are not equal to the french one has toknow how to deal with them', 'pierre reaching the house first went into prince andrews study likeone quite at home and from habit immediately lay down on the sofa tookfrom the shelf the first book that came to his hand it was caesarscommentaries and resting on his elbow began reading it in the middle', 'what have you done to mlle schérer she will be quite ill nowsaid prince andrew as he entered the study rubbing his small whitehands', 'pierre turned his whole body making the sofa creak', 'he lifted his eagerface to prince andrew smiled and waved his hand', 'that abbé is very interesting but he does not see the thing in theright light', '', '', '', 'in my opinion perpetual peace is possible buti do notknow how to express it', '', '', 'not by a balance of political power', '', '', '', 'it was evident that prince andrew was not interested in such abstractconversation', 'one cant everywhere say all one thinks mon cher', 'well haveyou at last decided on anything are you going to be a guardsman or adiplomatist asked prince andrew after a momentary silence', 'pierre sat up on the sofa with his legs tucked under him', 'really i dont yet know', 'i dont like either the one or theother', 'but you must decide on something your father expects it', 'pierre at the age of ten had been sent abroad with an abbé as tutorand had remained away till he was twenty', 'when he returned to moscowhis father dismissed the abbé and said to the young man now goto petersburg look round and choose your profession', 'i will agree toanything', 'here is a letter to prince vasíli and here is money', 'writeto me all about it and i will help you in everything', 'pierre hadalready been choosing a career for three months and had not decidedon anything', 'it was about this choice that prince andrew was speaking', 'pierre rubbed his forehead', 'but he must be a freemason said he referring to the abbé whomhe had met that evening', 'that is all nonsense', 'prince andrew again interrupted him letus talk business', 'have you been to the horse guardsno i have not but this is what i have been thinking and wantedto tell you', 'there is a war now against napoleon', 'if it were a war forfreedom i could understand it and should be the first to enter the armybut to help england and austria against the greatest man in the world isnot right', 'prince andrew only shrugged his shoulders at pierres childish words', 'he put on the air of one who finds it impossible to reply to suchnonsense but it would in fact have been difficult to give any otheranswer than the one prince andrew gave to this naïve question', 'if no one fought except on his own conviction there would be nowars he said', 'and that would be splendid said pierre', 'prince andrew smiled ironically', 'very likely it would be splendid but it will never come about', '', '', '', 'well why are you going to the war asked pierre', 'what for i dont know', 'i must', 'besides that i am going', '', '', '', 'hepaused', 'i am going because the life i am leading here does not suitmechapter viithe rustle of a womans dress was heard in the next room', 'princeandrew shook himself as if waking up and his face assumed the look ithad had in anna pávlovnas drawing room', 'pierre removed his feet fromthe sofa', 'the princess came in', 'she had changed her gown for a housedress as fresh and elegant as the other', 'prince andrew rose and politelyplaced a chair for her', 'how is it she began as usual in french settling down brisklyand fussily in the easy chair how is it annette never got marriedhow stupid you men all are not to have married her excuse me for sayingso but you have no sense about women', 'what an argumentative fellow youare monsieur pierreand i am still arguing with your husband', 'i cant understand why hewants to go to the war replied pierre addressing the princesswith none of the embarrassment so commonly shown by young men in theirintercourse with young women', 'the princess started', 'evidently pierres words touched her to thequick', 'ah that is just what i tell him said she', 'i dontunderstand it i dont in the least understand why men cant livewithout wars', 'how is it that we women dont want anything of the kinddont need it now you shall judge between us', 'i always tell him herehe is uncles aidedecamp a most brilliant position', 'he is sowell known so much appreciated by everyone', 'the other day at theapráksins i heard a lady asking is that the famous princeandrew i did indeed', 'she laughed', 'he is so well receivedeverywhere', 'he might easily become aidedecamp to the emperor', 'you knowthe emperor spoke to him most graciously', 'annette and i were speaking ofhow to arrange it', 'what do you thinkpierre looked at his friend and noticing that he did not like theconversation gave no reply', 'when are you starting he asked', 'oh dont speak of his going dont i wont hear it spokenof said the princess in the same petulantly playful tone in whichshe had spoken to hippolyte in the drawing room and which was so plainlyillsuited to the family circle of which pierre was almost a member', 'today when i remembered that all these delightful associationsmust be broken off', '', '', 'and then you know andré', '', '', 'she lookedsignificantly at her husband im afraid im afraid shewhispered and a shudder ran down her back', 'her husband looked at her as if surprised to notice that someone besidespierre and himself was in the room and addressed her in a tone offrigid politeness', 'what is it you are afraid of lise i dont understand said he', 'there what egotists men all are all all egotists just for a whimof his own goodness only knows why he leaves me and locks me up alonein the country', 'with my father and sister remember said prince andrew gently', 'alone all the same without my friends', '', '', '', 'and he expects me not tobe afraid', 'her tone was now querulous and her lip drawn up giving her not ajoyful but an animal squirrellike expression', 'she paused as if shefelt it indecorous to speak of her pregnancy before pierre though thegist of the matter lay in that', 'i still cant understand what you are afraid of said princeandrew slowly not taking his eyes off his wife', 'the princess blushed and raised her arms with a gesture of despair', 'no andrew i must say you have changed', 'oh how you have', '', '', '', 'your doctor tells you to go to bed earlier said prince andrew', 'you had better go', 'the princess said nothing but suddenly her short downy lip quivered', 'prince andrew rose shrugged his shoulders and walked about the room', 'pierre looked over his spectacles with naïve surprise now at him andnow at her moved as if about to rise too but changed his mind', 'why should i mind monsieur pierre being here exclaimed the littleprincess suddenly her pretty face all at once distorted by a tearfulgrimace', 'i have long wanted to ask you andrew why you have changedso to me what have i done to you you are going to the war and have nopity for me', 'why is itlise was all prince andrew said', 'but that one word expressedan entreaty a threat and above all conviction that she would herselfregret her words', 'but she went on hurriedlyyou treat me like an invalid or a child', 'i see it all did you behavelike that six months agolise i beg you to desist said prince andrew still moreemphatically', 'pierre who had been growing more and more agitated as he listened toall this rose and approached the princess', 'he seemed unable to bear thesight of tears and was ready to cry himself', 'calm yourself princess it seems so to you because', '', '', '', 'i assure youi myself have experienced', '', '', 'and so', '', '', 'because', '', '', 'no excuse mean outsider is out of place here', '', '', '', 'no dont distress yourself', '', '', '', 'goodbyprince andrew caught him by the hand', 'no wait pierre the princess is too kind to wish to deprive me ofthe pleasure of spending the evening with you', 'no he thinks only of himself muttered the princess withoutrestraining her angry tears', 'lise said prince andrew dryly raising his voice to the pitchwhich indicates that patience is exhausted', 'suddenly the angry squirrellike expression of the princess prettyface changed into a winning and piteous look of fear', 'her beautiful eyesglanced askance at her husbands face and her own assumed the timiddeprecating expression of a dog when it rapidly but feebly wags itsdrooping tail', 'mon dieu mon dieu she muttered and lifting her dress with onehand she went up to her husband and kissed him on the forehead', 'good night lise said he rising and courteously kissing her handas he would have done to a stranger', 'chapter viiithe friends were silent', 'neither cared to begin talking', 'pierrecontinually glanced at prince andrew prince andrew rubbed his foreheadwith his small hand', 'let us go and have supper he said with a sigh going to the door', 'they entered the elegant newly decorated and luxurious dining room', 'everything from the table napkins to the silver china and glass borethat imprint of newness found in the households of the newly married', 'halfway through supper prince andrew leaned his elbows on the table andwith a look of nervous agitation such as pierre had never before seen onhis face began to talkas one who has long had something on his mindand suddenly determines to speak out', 'never never marry my dear fellow thats my advice never marrytill you can say to yourself that you have done all you are capable ofand until you have ceased to love the woman of your choice and have seenher plainly as she is or else you will make a cruel and irrevocablemistake', 'marry when you are old and good for nothingor all that isgood and noble in you will be lost', 'it will all be wasted on trifles', 'yes yes yes dont look at me with such surprise', 'if you marryexpecting anything from yourself in the future you will feel at everystep that for you all is ended all is closed except the drawingroom where you will be ranged side by side with a court lackey and anidiot', '', '', 'but whats the good', '', '', 'and he waved his arm', 'pierre took off his spectacles which made his face seem different andthe goodnatured expression still more apparent and gazed at his friendin amazement', 'my wife continued prince andrew is an excellent woman oneof those rare women with whom a mans honor is safe but o god whatwould i not give now to be unmarried you are the first and only one towhom i mention this because i like you', 'as he said this prince andrew was less than ever like that bolkónskiwho had lolled in anna pávlovnas easy chairs and with halfclosedeyes had uttered french phrases between his teeth', 'every muscle of histhin face was now quivering with nervous excitement his eyes in whichthe fire of life had seemed extinguished now flashed with brilliantlight', 'it was evident that the more lifeless he seemed at ordinarytimes the more impassioned he became in these moments of almost morbidirritation', 'you dont understand why i say this he continued but it isthe whole story of life', 'you talk of bonaparte and his career saidhe though pierre had not mentioned bonaparte but bonaparte whenhe worked went step by step toward his goal', 'he was free he had nothingbut his aim to consider and he reached it', 'but tie yourself up witha woman and like a chained convict you lose all freedom and all youhave of hope and strength merely weighs you down and torments you withregret', 'drawing rooms gossip balls vanity and trivialitythese arethe enchanted circle i cannot escape from', 'i am now going to the warthe greatest war there ever was and i know nothing and am fit fornothing', 'i am very amiable and have a caustic wit continued princeandrew and at anna pávlovnas they listen to me', 'and that stupidset without whom my wife cannot exist and those women', '', '', '', 'if you onlyknew what those society women are and women in general my father isright', 'selfish vain stupid trivial in everythingthats whatwomen are when you see them in their true colors when you meet themin society it seems as if there were something in them but theresnothing nothing nothing no dont marry my dear fellow dontmarry concluded prince andrew', 'it seems funny to me said pierre that you you shouldconsider yourself incapable and your life a spoiled life', 'you haveeverything before you everything', 'and you', '', '', '', 'he did not finish his sentence but his tone showed how highly hethought of his friend and how much he expected of him in the future', 'how can he talk like that thought pierre', 'he considered hisfriend a model of perfection because prince andrew possessed in thehighest degree just the very qualities pierre lacked and which mightbe best described as strength of will', 'pierre was always astonished atprince andrews calm manner of treating everybody his extraordinarymemory his extensive reading he had read everything knew everythingand had an opinion about everything but above all at his capacity forwork and study', 'and if pierre was often struck by andrews lackof capacity for philosophical meditation to which he himself wasparticularly addicted he regarded even this not as a defect but as asign of strength', 'even in the best most friendly and simplest relations of life praiseand commendation are essential just as grease is necessary to wheelsthat they may run smoothly', 'my part is played out said prince andrew', 'whats the use oftalking about me let us talk about you he added after a silencesmiling at his reassuring thoughts', 'that smile was immediately reflected on pierres face', 'but what is there to say about me said pierre his face relaxinginto a careless merry smile', 'what am i an illegitimate sonhe suddenly blushed crimson and it was plain that he had made a greateffort to say this', 'without a name and without means', '', '', 'and itreally', '', '', 'but he did not say what it really was', 'for thepresent i am free and am all right', 'only i havent the least idea whati am to do i wanted to consult you seriously', 'prince andrew looked kindly at him yet his glancefriendly andaffectionate as it wasexpressed a sense of his own superiority', 'i am fond of you especially as you are the one live man among ourwhole set', 'yes youre all right choose what you will its all thesame', 'youll be all right anywhere', 'but look here give up visitingthose kurágins and leading that sort of life', 'it suits you sobadlyall this debauchery dissipation and the rest of itwhat would you have my dear fellow answered pierre shrugginghis shoulders', 'women my dear fellow womeni dont understand it replied prince andrew', 'women who arecomme il faut thats a different matter but the kurágins set ofwomen women and wine i dont understandpierre was staying at prince vasíli kurágins and sharing thedissipated life of his son anatole the son whom they were planning toreform by marrying him to prince andrews sister', 'do you know said pierre as if suddenly struck by a happythought seriously i have long been thinking of it', '', '', '', 'leading sucha life i cant decide or think properly about anything', 'ones headaches and one spends all ones money', 'he asked me for tonight but iwont go', 'you give me your word of honor not to goon my honorchapter ixit was past one oclock when pierre left his friend', 'it was acloudless northern summer night', 'pierre took an open cab intendingto drive straight home', 'but the nearer he drew to the house the more hefelt the impossibility of going to sleep on such a night', 'it was lightenough to see a long way in the deserted street and it seemed more likemorning or evening than night', 'on the way pierre remembered that anatolekurágin was expecting the usual set for cards that evening after whichthere was generally a drinking bout finishing with visits of a kindpierre was very fond of', 'i should like to go to kurágins thought he', 'but he immediately recalled his promise to prince andrew not to gothere', 'then as happens to people of weak character he desired sopassionately once more to enjoy that dissipation he was so accustomed tothat he decided to go', 'the thought immediately occurred to him that hispromise to prince andrew was of no account because before he gave ithe had already promised prince anatole to come to his gatheringbesides thought he all such words of honor areconventional things with no definite meaning especially ifone considers that by tomorrow one may be dead or something soextraordinary may happen to one that honor and dishonor will be all thesame pierre often indulged in reflections of this sort nullifyingall his decisions and intentions', 'he went to kurágins', 'reaching the large house near the horse guards barracks in whichanatole lived pierre entered the lighted porch ascended the stairsand went in at the open door', 'there was no one in the anteroom emptybottles cloaks and overshoes were lying about there was a smell ofalcohol and sounds of voices and shouting in the distance', 'cards and supper were over but the visitors had not yet dispersed', 'pierre threw off his cloak and entered the first room in which were theremains of supper', 'a footman thinking no one saw him was drinking onthe sly what was left in the glasses', 'from the third room came sounds oflaughter the shouting of familiar voices the growling of a bear andgeneral commotion', 'some eight or nine young men were crowding anxiouslyround an open window', 'three others were romping with a young bear onepulling him by the chain and trying to set him at the others', 'i bet a hundred on stevens shouted one', 'mind no holding on cried another', 'i bet on dólokhov cried a third', 'kurágin you part ourhands', 'there leave bruin alone heres a bet on', 'at one draught or he loses shouted a fourth', 'jacob bring a bottle shouted the host a tall handsome fellowwho stood in the midst of the group without a coat and with his finelinen shirt unfastened in front', 'wait a bit you fellows', '', '', '', 'here ispétya good man cried he addressing pierre', 'another voice from a man of medium height with clear blue eyesparticularly striking among all these drunken voices by its soberring cried from the window come here part the bets this wasdólokhov an officer of the semënov regiment a notorious gambler andduelist who was living with anatole', 'pierre smiled looking about himmerrily', 'i dont understand', 'whats it all aboutwait a bit he is not drunk yet a bottle here said anatole andtaking a glass from the table he went up to pierre', 'first of all you must drinkpierre drank one glass after another looking from under his brows atthe tipsy guests who were again crowding round the window and listeningto their chatter', 'anatole kept on refilling pierres glass whileexplaining that dólokhov was betting with stevens an english navalofficer that he would drink a bottle of rum sitting on the outer ledgeof the third floor window with his legs hanging out', 'go on you must drink it all said anatole giving pierre the lastglass or i wont let you gono i wont said pierre pushing anatole aside and he went upto the window', 'dólokhov was holding the englishmans hand and clearly and distinctlyrepeating the terms of the bet addressing himself particularly toanatole and pierre', 'dólokhov was of medium height with curly hair and lightblue eyes', 'hewas about twentyfive', 'like all infantry officers he wore no mustacheso that his mouth the most striking feature of his face was clearlyseen', 'the lines of that mouth were remarkably finely curved', 'the middleof the upper lip formed a sharp wedge and closed firmly on the firmlower one and something like two distinct smiles played continuallyround the two corners of the mouth this together with the resoluteinsolent intelligence of his eyes produced an effect which made itimpossible not to notice his face', 'dólokhov was a man of small meansand no connections', 'yet though anatole spent tens of thousands ofrubles dólokhov lived with him and had placed himself on such afooting that all who knew them including anatole himself respected himmore than they did anatole', 'dólokhov could play all games and nearlyalways won', 'however much he drank he never lost his clearheadedness', 'both kurágin and dólokhov were at that time notorious among the rakesand scapegraces of petersburg', 'the bottle of rum was brought', 'the window frame which prevented anyonefrom sitting on the outer sill was being forced out by two footmen whowere evidently flurried and intimidated by the directions and shouts ofthe gentlemen around', 'anatole with his swaggering air strode up to the window', 'he wanted tosmash something', 'pushing away the footmen he tugged at the frame butcould not move it', 'he smashed a pane', 'you have a try hercules said he turning to pierre', 'pierre seized the crossbeam tugged and wrenched the oak frame out witha crash', 'take it right out or theyll think im holding on saiddólokhov', 'is the englishman bragging', '', '', 'eh is it all right said anatole', 'firstrate said pierre looking at dólokhov who with a bottleof rum in his hand was approaching the window from which the light ofthe sky the dawn merging with the afterglow of sunset was visible', 'dólokhov the bottle of rum still in his hand jumped onto the windowsill', 'listen cried he standing there and addressing those in theroom', 'all were silent', 'i bet fifty imperialshe spoke french that the englishman mightunderstand him but he did not speak it very welli bet fiftyimperials', '', '', 'or do you wish to make it a hundred added headdressing the englishman', 'no fifty replied the latter', 'all right', 'fifty imperials', '', '', 'that i will drink a whole bottle ofrum without taking it from my mouth sitting outside the window on thisspot he stooped and pointed to the sloping ledge outside the windowand without holding on to anything', 'is that rightquite right said the englishman', 'anatole turned to the englishman and taking him by one of the buttonsof his coat and looking down at himthe englishman was shortbeganrepeating the terms of the wager to him in english', 'wait cried dólokhov hammering with the bottle on the windowsill to attract attention', 'wait a bit kurágin', 'listen ifanyone else does the same i will pay him a hundred imperials', 'do youunderstandthe englishman nodded but gave no indication whether he intended toaccept this challenge or not', 'anatole did not release him and thoughhe kept nodding to show that he understood anatole went on translatingdólokhovs words into english', 'a thin young lad an hussar of thelife guards who had been losing that evening climbed on the windowsill leaned over and looked down', 'oh oh oh he muttered looking down from the window at thestones of the pavement', 'shut up cried dólokhov pushing him away from the window', 'thelad jumped awkwardly back into the room tripping over his spurs', 'placing the bottle on the window sill where he could reach it easilydólokhov climbed carefully and slowly through the window and loweredhis legs', 'pressing against both sides of the window he adjusted himselfon his seat lowered his hands moved a little to the right and then tothe left and took up the bottle', 'anatole brought two candles andplaced them on the window sill though it was already quite light', 'dólokhovs back in his white shirt and his curly head were litup from both sides', 'everyone crowded to the window the englishman infront', 'pierre stood smiling but silent', 'one man older than the otherspresent suddenly pushed forward with a scared and angry look and wantedto seize hold of dólokhovs shirt', 'i say this is folly hell be killed said this more sensibleman', 'anatole stopped him', 'dont touch him youll startle him and then hell be killed', 'eh', '', '', 'what then', '', '', 'ehdólokhov turned round and again holding on with both hands arrangedhimself on his seat', 'if anyone comes meddling again said he emitting the wordsseparately through his thin compressed lips i will throw him downthere', 'now thensaying this he again turned round dropped his hands took the bottleand lifted it to his lips threw back his head and raised his free handto balance himself', 'one of the footmen who had stooped to pick up somebroken glass remained in that position without taking his eyes from thewindow and from dólokhovs back', 'anatole stood erect with staringeyes', 'the englishman looked on sideways pursing up his lips', 'the manwho had wished to stop the affair ran to a corner of the room and threwhimself on a sofa with his face to the wall', 'pierre hid his face fromwhich a faint smile forgot to fade though his features now expressedhorror and fear', 'all were still', 'pierre took his hands from his eyes', 'dólokhov still sat in the same position only his head was thrownfurther back till his curly hair touched his shirt collar and the handholding the bottle was lifted higher and higher and trembled with theeffort', 'the bottle was emptying perceptibly and rising still higherand his head tilting yet further back', 'why is it so long thoughtpierre', 'it seemed to him that more than half an hour had elapsed', 'suddenly dólokhov made a backward movement with his spine and his armtrembled nervously this was sufficient to cause his whole body to slipas he sat on the sloping ledge', 'as he began slipping down his head andarm wavered still more with the strain', 'one hand moved as if to clutchthe window sill but refrained from touching it', 'pierre again coveredhis eyes and thought he would never open them again', 'suddenly he wasaware of a stir all around', 'he looked up dólokhov was standing on thewindow sill with a pale but radiant face', 'its empty', 'he threw the bottle to the englishman who caught it neatly', 'dólokhovjumped down', 'he smelt strongly of rum', 'well done', '', '', 'fine fellow', '', '', 'theres a bet for you', '', '', 'devil takeyou came from different sides', 'the englishman took out his purse and began counting out the money', 'dólokhov stood frowning and did not speak', 'pierre jumped upon thewindow sill', 'gentlemen who wishes to bet with me ill do the same thinghe suddenly cried', 'even without a bet there tell them to bring me abottle', 'ill do it', '', '', '', 'bring a bottlelet him do it let him do it said dólokhov smiling', 'what next have you gone mad', '', '', 'no one would let you', '', '', 'why you gogiddy even on a staircase exclaimed several voices', 'ill drink it lets have a bottle of rum shouted pierrebanging the table with a determined and drunken gesture and preparing toclimb out of the window', 'they seized him by his arms but he was so strong that everyone whotouched him was sent flying', 'no youll never manage him that way said anatole', 'wait abit and ill get round him', '', '', '', 'listen ill take your bet tomorrowbut now we are all going to s', 'come on then cried pierre', 'come on', '', '', 'and well take bruinwith us', 'and he caught the bear took it in his arms lifted it from the groundand began dancing round the room with it', 'chapter xprince vasíli kept the promise he had given to princess drubetskáyawho had spoken to him on behalf of her only son borís on the evening ofanna pávlovnas soiree', 'the matter was mentioned to the emperor anexception made and borís transferred into the regiment of semënovguards with the rank of cornet', 'he received however no appointmentto kutúzovs staff despite all anna mikháylovnas endeavors andentreaties', 'soon after anna pávlovnas reception anna mikháylovnareturned to moscow and went straight to her rich relations therostóvs with whom she stayed when in the town and where her darlingbóry who had only just entered a regiment of the line and was beingat once transferred to the guards as a cornet had been educated fromchildhood and lived for years at a time', 'the guards had already leftpetersburg on the tenth of august and her son who had remained inmoscow for his equipment was to join them on the march to radzivílov', 'it was st', 'natalias day and the name day of two of the rostóvsthemother and the youngest daughterboth named nataly', 'ever sincethe morning carriages with six horses had been coming and goingcontinually bringing visitors to the countess rostóvas big house onthe povarskáya so well known to all moscow', 'the countess herself andher handsome eldest daughter were in the drawing room with the visitorswho came to congratulate and who constantly succeeded one another inrelays', 'the countess was a woman of about fortyfive with a thin oriental typeof face evidently worn out with childbearingshe had had twelve', 'a languor of motion and speech resulting from weakness gave her adistinguished air which inspired respect', 'princess anna mikháylovnadrubetskáya who as a member of the household was also seated in thedrawing room helped to receive and entertain the visitors', 'the youngpeople were in one of the inner rooms not considering it necessary totake part in receiving the visitors', 'the count met the guests and sawthem off inviting them all to dinner', 'i am very very grateful to you mon cher or ma chèrehecalled everyone without exception and without the slightest variationin his tone my dear whether they were above or below him inranki thank you for myself and for our two dear ones whose nameday we are keeping', 'but mind you come to dinner or i shall be offendedma chère on behalf of the whole family i beg you to come mon cherthese words he repeated to everyone without exception or variation andwith the same expression on his full cheerful cleanshaven face thesame firm pressure of the hand and the same quick repeated bows', 'assoon as he had seen a visitor off he returned to one of those who werestill in the drawing room drew a chair toward him or her and jauntilyspreading out his legs and putting his hands on his knees with the airof a man who enjoys life and knows how to live he swayed to andfro with dignity offered surmises about the weather or touched onquestions of health sometimes in russian and sometimes in very bad butselfconfident french then again like a man weary but unflinching inthe fulfillment of duty he rose to see some visitors off and strokinghis scanty gray hairs over his bald patch also asked them to dinner', 'sometimes on his way back from the anteroom he would pass through theconservatory and pantry into the large marble dining hall where tableswere being set out for eighty people and looking at the footmen whowere bringing in silver and china moving tables and unfolding damasktable linen he would call dmítri vasílevich a man of good family andthe manager of all his affairs and while looking with pleasure at theenormous table would say well dmítri youll see that things areall as they should be thats right the great thing is the servingthats it', 'and with a complacent sigh he would return to thedrawing room', 'márya lvóvna karágina and her daughter announced thecountess gigantic footman in his bass voice entering the drawingroom', 'the countess reflected a moment and took a pinch from a goldsnuffbox with her husbands portrait on it', 'im quite worn out by these callers', 'however ill see her andno more', 'she is so affected', 'ask her in she said to the footman in asad voice as if saying very well finish me off', 'a tall stout and proudlooking woman with a roundfaced smilingdaughter entered the drawing room their dresses rustling', 'dear countess what an age', '', '', 'she has been laid up poor child', '', '', 'at the razumóvskis ball', '', '', 'and countess apráksina', '', '', 'i wasso delighted', '', '', 'came the sounds of animated feminine voicesinterrupting one another and mingling with the rustling of dresses andthe scraping of chairs', 'then one of those conversations began which lastout until at the first pause the guests rise with a rustle of dressesand say i am so delighted', '', '', 'mammas health', '', '', 'and countessapráksina', '', '', 'and then again rustling pass into the anteroom puton cloaks or mantles and drive away', 'the conversation was on the chieftopic of the day the illness of the wealthy and celebrated beau ofcatherines day count bezúkhov and about his illegitimate sonpierre the one who had behaved so improperly at anna pávlovnasreception', 'i am so sorry for the poor count said the visitor', 'he is insuch bad health and now this vexation about his son is enough to killhimwhat is that asked the countess as if she did not know what thevisitor alluded to though she had already heard about the cause ofcount bezúkhovs distress some fifteen times', 'thats what comes of a modern education exclaimed the visitor', 'it seems that while he was abroad this young man was allowed to doas he liked now in petersburg i hear he has been doing such terriblethings that he has been expelled by the police', 'you dont say so replied the countess', 'he chose his friends badly interposed anna mikháylovna', 'prince vasílis son he and a certain dólokhov have it is saidbeen up to heaven only knows what and they have had to suffer for it', 'dólokhov has been degraded to the ranks and bezúkhovs son sentback to moscow', 'anatole kurágins father managed somehow to get hissons affair hushed up but even he was ordered out of petersburg', 'but what have they been up to asked the countess', 'they are regular brigands especially dólokhov replied thevisitor', 'he is a son of márya ivánovna dólokhova such a worthywoman but there just fancy those three got hold of a bear somewhereput it in a carriage and set off with it to visit some actresses thepolice tried to interfere and what did the young men do they tieda policeman and the bear back to back and put the bear into the moykacanal', 'and there was the bear swimming about with the policeman on hisbackwhat a nice figure the policeman must have cut my dear shoutedthe count dying with laughter', 'oh how dreadful how can you laugh at it countyet the ladies themselves could not help laughing', 'it was all they could do to rescue the poor man continued thevisitor', 'and to think it is cyril vladímirovich bezúkhovs sonwho amuses himself in this sensible manner and he was said to be sowell educated and clever', 'this is all that his foreign education hasdone for him i hope that here in moscow no one will receive him inspite of his money', 'they wanted to introduce him to me but i quitedeclined i have my daughters to consider', 'why do you say this young man is so rich asked the countessturning away from the girls who at once assumed an air of inattention', 'his children are all illegitimate', 'i think pierre also isillegitimate', 'the visitor made a gesture with her hand', 'i should think he has a score of them', 'princess anna mikháylovna intervened in the conversation evidentlywishing to show her connections and knowledge of what went on insociety', 'the fact of the matter is said she significantly and also in ahalf whisper everyone knows count cyrils reputation', '', '', '', 'he haslost count of his children but this pierre was his favorite', 'how handsome the old man still was only a year ago remarked thecountess', 'i have never seen a handsomer man', 'he is very much altered now said anna mikháylovna', 'well asi was saying prince vasíli is the next heir through his wife but thecount is very fond of pierre looked after his education and wrote tothe emperor about him so that in the case of his deathand he isso ill that he may die at any moment and dr', 'lorrain has come frompetersburgno one knows who will inherit his immense fortune pierreor prince vasíli', 'forty thousand serfs and millions of rubles i knowit all very well for prince vasíli told me himself', 'besides cyrilvladímirovich is my mothers second cousin', 'hes also my bórysgodfather she added as if she attached no importance at all to thefact', 'prince vasíli arrived in moscow yesterday', 'i hear he has come onsome inspection business remarked the visitor', 'yes but between ourselves said the princess that is apretext', 'the fact is he has come to see count cyril vladímirovichhearing how ill he is', 'but do you know my dear that was a capital joke said the countand seeing that the elder visitor was not listening he turned to theyoung ladies', 'i can just imagine what a funny figure that policemancutand as he waved his arms to impersonate the policeman his portly formagain shook with a deep ringing laugh the laugh of one who always eatswell and in particular drinks well', 'so do come and dine with ushe said', 'chapter xisilence ensued', 'the countess looked at her callers smiling affablybut not concealing the fact that she would not be distressed if theynow rose and took their leave', 'the visitors daughter was alreadysmoothing down her dress with an inquiring look at her mother whensuddenly from the next room were heard the footsteps of boys and girlsrunning to the door and the noise of a chair falling over and a girlof thirteen hiding something in the folds of her short muslin frockdarted in and stopped short in the middle of the room', 'it was evidentthat she had not intended her flight to bring her so far', 'behind her inthe doorway appeared a student with a crimson coat collar an officerof the guards a girl of fifteen and a plump rosyfaced boy in a shortjacket', 'the count jumped up and swaying from side to side spread his arms wideand threw them round the little girl who had run in', 'ah here she is he exclaimed laughing', 'my pet whose name dayit is', 'my dear petma chère there is a time for everything said the countess withfeigned severity', 'you spoil her ilyá she added turning to herhusband', 'how do you do my dear i wish you many happy returns of your nameday said the visitor', 'what a charming child she addedaddressing the mother', 'this blackeyed widemouthed girl not pretty but full of lifewithchildish bare shoulders which after her run heaved and shook herbodice with black curls tossed backward thin bare arms little legsin lacefrilled drawers and feet in low slipperswas just at thatcharming age when a girl is no longer a child though the child is notyet a young woman', 'escaping from her father she ran to hide her flushedface in the lace of her mothers mantillanot paying the leastattention to her severe remarkand began to laugh', 'she laughed and infragmentary sentences tried to explain about a doll which she producedfrom the folds of her frock', 'do you see', '', '']\n"
          ],
          "name": "stdout"
        }
      ]
    },
    {
      "cell_type": "code",
      "metadata": {
        "id": "CtdVMWrNyYYd",
        "colab_type": "code",
        "colab": {}
      },
      "source": [
        "def flatten(list):\n",
        "  for i in list:\n",
        "    for j in i:\n",
        "      yield j"
      ],
      "execution_count": 0,
      "outputs": []
    },
    {
      "cell_type": "code",
      "metadata": {
        "scrolled": true,
        "id": "dVP4M0Ct8uk4",
        "colab_type": "code",
        "colab": {}
      },
      "source": [
        "from collections import Counter\n",
        "import nltk\n",
        "from sklearn.base import TransformerMixin\n",
        "\n",
        "\n",
        "class BPE(TransformerMixin):\n",
        "    def __init__(self, vocab_size=100):\n",
        "        super(BPE, self).__init__()\n",
        "        self.vocab_size = vocab_size\n",
        "        # index to token\n",
        "        self.itos = []\n",
        "        # token to index\n",
        "        self.stoi = {}\n",
        "        \n",
        "    def fit(self, text):\n",
        "        \"\"\"\n",
        "        fit itos and stoi\n",
        "        text: list of strings \n",
        "        \"\"\"\n",
        "        \n",
        "        # TODO\n",
        "        # tokenize text by symbols and fill in self.itos and self.stoi\n",
        "        text = [list(sentence) for sentence in text]\n",
        "        #text = list(flatten(text))\n",
        "        self.itos = list(set(list(flatten(text))))\n",
        "        for i, item in enumerate(self.itos):\n",
        "          self.stoi[item] = i\n",
        "        \n",
        "        text = [[self.stoi[sym] for sym in sent] for sent in text]\n",
        "        \n",
        "        while len(self.itos) < self.vocab_size:\n",
        "            # TODO\n",
        "            # count bigram freqencies in the text\n",
        "            bigram_frq = Counter(zip(list(flatten(text)), list(flatten(text))[1:]))\n",
        "            new_token = bigram_frq.most_common(1)[0][0]\n",
        "            # most common bigram in the text\n",
        "            new_id = len(self.itos)\n",
        "            \n",
        "            self.itos.append(new_token)\n",
        "            self.stoi[new_token] = new_id\n",
        "            \n",
        "            \n",
        "            # find occurences of the new_token in the text and replace them with new_id\n",
        "            for sent in text:\n",
        "              indices = [i for i, x in enumerate(sent) if x == new_token[0]]\n",
        "              indices_to_remove = []\n",
        "\n",
        "              for ind in indices:\n",
        "                if ind!=len(sent)-1:\n",
        "                  if sent[ind+1] == new_token[1]:\n",
        "                    indices_to_remove.append(ind+1)\n",
        "                    sent[ind] = new_id\n",
        "              \n",
        "              sent = [i for j, i in enumerate(sent) if j not in indices_to_remove]\n",
        "            \n",
        "        return self\n",
        "    \n",
        "    def transform(self, text):\n",
        "        \"\"\"\n",
        "        convert text to a sequence of token ids\n",
        "        text: list of strings\n",
        "        \"\"\"\n",
        "        # TODO tokenize text by symbols using self.stoi\n",
        "        text = [list(sentence) for sentence in text]\n",
        "        #text = list(flatten(text))\n",
        "        text = [[self.stoi[sym] for sym in sent] for sent in text]\n",
        "        \n",
        "        for sent in text:\n",
        "          for el in range(len(self.itos)):\n",
        "            indices = [i for i, x in enumerate(sent) if x == el]\n",
        "  \n",
        "            needed_itos = [k for k in self.itos if type(k)!=str and k[0] == el]\n",
        "          #print(el, needed_itos)\n",
        "            for ix in indices:\n",
        "              if ix<len(sent)-1:\n",
        "                for item in needed_itos:\n",
        "                  if sent[ix+1] == item[1]:\n",
        "                    sent = sent[:ix]+[self.stoi[item]]+sent[ix+2:] \n",
        "                  \n",
        "        return text\n",
        "      \n",
        "    def decode_token(self, tok):\n",
        "        \"\"\"\n",
        "        tok: int or tuple\n",
        "        \"\"\"\n",
        "        result = []\n",
        "        if type(tok) is int:\n",
        "          result = self.itos[tok]\n",
        "        else:\n",
        "          for k in tok:\n",
        "            if type(self.itos[k]) == str:\n",
        "              result.append(k)\n",
        "            else:\n",
        "              new = self.decode_token(k)\n",
        "              result += new\n",
        "            \n",
        "        #result = [self.itos[int(num)] for num in result]\n",
        "        return result\n",
        "            \n",
        "    def decode(self, text):\n",
        "        \"\"\"\n",
        "        convert token ids into text\n",
        "        \"\"\"\n",
        "        return ''.join(map(self.decode_token, text))\n",
        "        \n",
        "  \n",
        "  \n",
        "    \n",
        "vocab_size = 100\n",
        "bpe = BPE(vocab_size)\n",
        "tokenized_text = bpe.fit_transform(text)"
      ],
      "execution_count": 0,
      "outputs": []
    },
    {
      "cell_type": "code",
      "metadata": {
        "id": "2JapGEnK8uk-",
        "colab_type": "code",
        "colab": {}
      },
      "source": [
        "assert bpe.decode(tokenized_text[0]) == text[0]"
      ],
      "execution_count": 0,
      "outputs": []
    },
    {
      "cell_type": "code",
      "metadata": {
        "id": "9u-QYYIz8ulC",
        "colab_type": "code",
        "colab": {}
      },
      "source": [
        "import numpy as np\n",
        "from itertools import tee, islice\n",
        "\n",
        "\n",
        "start_token = vocab_size\n",
        "end_token = vocab_size + 1\n",
        "\n",
        "bpe.itos.append('@')\n",
        "bpe.itos.append(' ')\n",
        "\n",
        "bpe.stoi['@'] = start_token\n",
        "bpe.stoi['.'] = end_token\n",
        "\n",
        "def ngrams(lst, n):\n",
        "  tlst = lst\n",
        "  while True:\n",
        "    a, b = tee(tlst)\n",
        "    l = tuple(islice(a, n))\n",
        "    if len(l) == n:\n",
        "      yield l\n",
        "      next(b)\n",
        "      tlst = b\n",
        "    else:\n",
        "      break\n",
        "        \n",
        "    \n",
        "class LM:\n",
        "    def __init__(self, vocab_size, delta=1):\n",
        "        self.delta = delta\n",
        "        self.vocab_size = vocab_size + 2\n",
        "        self.proba = [] # TODO create array for storing 3-gram counters\n",
        "        \n",
        "    def fit(self, text):\n",
        "        \"\"\"\n",
        "        train language model on text\n",
        "        text: list of lists\n",
        "        \"\"\"\n",
        "        \n",
        "        text = [[start_token]+sent+[end_token] for sent in text]\n",
        "        text = list(flatten(text))\n",
        "        self.proba = Counter(ngrams(text, 3))\n",
        "        return self\n",
        "  \n",
        "    def get_proba(self, a, b, c, tau=1):\n",
        "        \"\"\"\n",
        "        get probability of 3-gram (a,b,c)\n",
        "        a: first token id\n",
        "        b: second token id\n",
        "        c: third token id\n",
        "        tau: temperature\n",
        "        \n",
        "        #вероятност триграммы абс\n",
        "        \"\"\"\n",
        "        counter_result = self.proba\n",
        "        count_current_3gram = counter_result[(a,  b, c)]\n",
        "        count_all_3grams = 0\n",
        "        for count in counter_result:\n",
        "          if count[0]==a and count[1]==b:\n",
        "            count_all_3grams += counter_result[count]\n",
        "        result = ((count_current_3gram + self.delta) ** (1/tau))/((count_all_3grams + self.delta) ** (1/tau))\n",
        "        # TODO approximate probability by counters\n",
        "        return result\n",
        "    \n",
        "    def infer(self, a, b, tau=1):\n",
        "        \"\"\"\n",
        "        return vector of probabilities of size self.vocab for 3-grams which start with (a,b) tokens\n",
        "        ## вектор длины 100 (размер вокаба) в котором хранятся вероятности всех триграмм , начинающихся с а b\n",
        "        a: first token id\n",
        "        b: second token id\n",
        "        tau: temperature\n",
        "        \"\"\"\n",
        "        vector = [] #[0] * len(self.vocab)\n",
        "        for item in range(self.vocab_size):\n",
        "          vector.append(self.get_proba(a, b, item, tau=1))\n",
        "        result = vector\n",
        "        #print(result)\n",
        "        return result\n",
        "      \n",
        "    \n",
        "    \n",
        "lm = LM(vocab_size, 1).fit(tokenized_text)"
      ],
      "execution_count": 0,
      "outputs": []
    },
    {
      "cell_type": "code",
      "metadata": {
        "id": "4pyIfLB38ulG",
        "colab_type": "code",
        "colab": {}
      },
      "source": [
        "def beam_search(input_seq, lm, max_len=10, k=5, tau=1):\n",
        "    \"\"\"\n",
        "    generate sequence from language model *lm* conditioned on input_seq\n",
        "    input_seq: sequence of token ids for conditioning\n",
        "    lm: language model\n",
        "    max_len: max generated sequence length\n",
        "    k: size of beam\n",
        "    tau: temperature\n",
        "    \"\"\"\n",
        "\n",
        "    beam = [(input_seq, 1)]\n",
        "    \n",
        "    # TODO store in beam tuples of current sequences and their log probabilities\n",
        "    \n",
        "    for i in range(max_len-len(input_seq)): ###тут минус уже имеющееся наверное??????):\n",
        "      #print ('BEAM', beam)\n",
        "      candidates = []\n",
        "      candidates_proba = [] #LM(vocab_size, 1).infer(a, b, tau=1)\n",
        "    \n",
        "      for item in beam:\n",
        "          #print(item)\n",
        "          snt = item[0]\n",
        "          snt_proba = item[1]\n",
        "          #print(type(snt))\n",
        "          #print(snt[-1], snt_proba)\n",
        "          x = snt[-2]\n",
        "          y = snt[-1]\n",
        "          #print(a,b)\n",
        "          if y == end_token:\n",
        "            continue\n",
        "          else:    \n",
        "              proba = lm.infer(x, y, tau) # probability vector of the next token\n",
        "              #print(len(proba))\n",
        "              sorted_probs = sorted([(e,i) for i,e in enumerate(proba)], reverse = True)\n",
        "              #print(len(bpe.itos))\n",
        "              #print(sorted_probs)\n",
        "              best_k = [bpe.itos[ix[1]] for ix in sorted_probs[:k]]# top-k most probable tokens\n",
        "              \n",
        "              for token in best_k:\n",
        "                candidates.append(item[0]+[bpe.stoi[token]])\n",
        "                candidates_proba.append(sorted_probs[bpe.stoi[token]][0])\n",
        "                # TODO update candidates' sequences and corresponding probabilities\n",
        "                \n",
        "      beam = [(candidates[i],candidates_proba[i]) for i in range(k)]\n",
        "      \n",
        "    return beam\n",
        "    "
      ],
      "execution_count": 0,
      "outputs": []
    },
    {
      "cell_type": "code",
      "metadata": {
        "id": "tWKCIc--8ulK",
        "colab_type": "code",
        "outputId": "26a626ff-aa35-44d8-d108-49e066cd2e58",
        "colab": {
          "base_uri": "https://localhost:8080/",
          "height": 194
        }
      },
      "source": [
        "\n",
        "input1 = 'horse '\n",
        "input1 = bpe.transform([input1])[0]\n",
        "result = beam_search(input1, lm, max_len=10, k=10, tau=0.1)\n",
        "# TODO print decoded generated strings and their probabilities\n",
        "\n",
        "for item in result:\n",
        "  print(bpe.decode(item[0]), item[1])\n",
        "    "
      ],
      "execution_count": 36,
      "outputs": [
        {
          "output_type": "stream",
          "text": [
            "horse and  0.0010787486515641855\n",
            "horse andr 0.006472491909385114\n",
            "horse ande 0.003236245954692557\n",
            "horse ands 0.0010787486515641855\n",
            "horse ando 0.0010787486515641855\n",
            "horse andi 0.007551240560949299\n",
            "horse and  0.0010787486515641855\n",
            "horse andt 0.0010787486515641855\n",
            "horse andl 0.007551240560949299\n",
            "horse anda 0.6796116504854369\n"
          ],
          "name": "stdout"
        }
      ]
    },
    {
      "cell_type": "code",
      "metadata": {
        "id": "WU3p3SjY8ulO",
        "colab_type": "code",
        "outputId": "fca77649-4b0c-4c1f-f37d-83188afc6540",
        "colab": {
          "base_uri": "https://localhost:8080/",
          "height": 232
        }
      },
      "source": [
        "input1 = 'her'\n",
        "input1 = bpe.transform([input1])[0]\n",
        "result = beam_search(input1, lm, max_len=10, k=10, tau=0.1)\n",
        "# TODO print decoded generated strings and their probabilities\n",
        "print(result)\n",
        "\n",
        "for item in result:\n",
        "  print(bpe.decode(item[0]), item[1])\n",
        "    "
      ],
      "execution_count": 33,
      "outputs": [
        {
          "output_type": "stream",
          "text": [
            "[([15, 19, 13, 21, 36, 12, 12, 21, 46, 15], 0.001199040767386091), ([15, 19, 13, 21, 36, 12, 12, 21, 46, 22], 0.001199040767386091), ([15, 19, 13, 21, 36, 12, 12, 21, 46, 0], 0.5323741007194245), ([15, 19, 13, 21, 36, 12, 12, 21, 46, 11], 0.001199040767386091), ([15, 19, 13, 21, 36, 12, 12, 21, 46, 13], 0.001199040767386091), ([15, 19, 13, 21, 36, 12, 12, 21, 46, 27], 0.001199040767386091), ([15, 19, 13, 21, 36, 12, 12, 21, 46, 19], 0.001199040767386091), ([15, 19, 13, 21, 36, 12, 12, 21, 46, 12], 0.001199040767386091), ([15, 19, 13, 21, 36, 12, 12, 21, 46, 39], 0.001199040767386091), ([15, 19, 13, 21, 36, 12, 12, 21, 46, 21], 0.001199040767386091)]\n",
            "her xii ch 0.001199040767386091\n",
            "her xii co 0.001199040767386091\n",
            "her xii ca 0.5323741007194245\n",
            "her xii cl 0.001199040767386091\n",
            "her xii cr 0.001199040767386091\n",
            "her xii cu 0.001199040767386091\n",
            "her xii ce 0.001199040767386091\n",
            "her xii ci 0.001199040767386091\n",
            "her xii cy 0.001199040767386091\n",
            "her xii c  0.001199040767386091\n"
          ],
          "name": "stdout"
        }
      ]
    },
    {
      "cell_type": "code",
      "metadata": {
        "id": "SxnGBq7B8ulT",
        "colab_type": "code",
        "outputId": "75d3c596-b73a-499c-d5ee-d755c550a35f",
        "colab": {
          "base_uri": "https://localhost:8080/",
          "height": 194
        }
      },
      "source": [
        "input1 = 'what'\n",
        "input1 = bpe.transform([input1])[0]\n",
        "result = beam_search(input1, lm, max_len=10, k=10, tau=1)\n",
        "# TODO print decoded generated strings and their probabilities\n",
        "\n",
        "\n",
        "for item in result:\n",
        "  print(bpe.decode(item[0]), item[1])\n",
        "    "
      ],
      "execution_count": 31,
      "outputs": [
        {
          "output_type": "stream",
          "text": [
            "what the a 0.12210526315789473\n",
            "what the t 0.0003508771929824561\n",
            "what the w 0.0007017543859649122\n",
            "what the s 0.0007017543859649122\n",
            "what the h 0.02912280701754386\n",
            "what the o 0.004561403508771929\n",
            "what the i 0.03368421052631579\n",
            "what the p 0.0003508771929824561\n",
            "what the c 0.0003508771929824561\n",
            "what the b 0.0003508771929824561\n"
          ],
          "name": "stdout"
        }
      ]
    },
    {
      "cell_type": "code",
      "metadata": {
        "id": "Xeea3R3s8ulX",
        "colab_type": "code",
        "outputId": "ca45461a-25ea-45d2-c367-7f9490ba4cb0",
        "colab": {
          "base_uri": "https://localhost:8080/",
          "height": 194
        }
      },
      "source": [
        "input1 = 'gun '\n",
        "input1 = bpe.transform([input1])[0]\n",
        "result = beam_search(input1, lm, max_len=10, k=10, tau=0.1)\n",
        "# TODO print decoded generated strings and their probabilities\n",
        "for item in result:\n",
        "  print(bpe.decode(item[0]), item[1])\n",
        "    "
      ],
      "execution_count": 32,
      "outputs": [
        {
          "output_type": "stream",
          "text": [
            "gun the an 0.0005367686527106817\n",
            "gun the a  0.0005367686527106817\n",
            "gun the as 0.0005367686527106817\n",
            "gun the al 0.015029522275899088\n",
            "gun the at 0.0005367686527106817\n",
            "gun the ar 0.00912506709608159\n",
            "gun the ab 0.0005367686527106817\n",
            "gun the am 0.008588298443370907\n",
            "gun the ag 0.0005367686527106817\n",
            "gun the af 0.0005367686527106817\n"
          ],
          "name": "stdout"
        }
      ]
    },
    {
      "cell_type": "code",
      "metadata": {
        "id": "AhYBpUDi8ulc",
        "colab_type": "code",
        "colab": {
          "base_uri": "https://localhost:8080/",
          "height": 34
        },
        "outputId": "cf4f24b0-ebb7-4127-a908-063f200dd742"
      },
      "source": [
        "from math import log\n",
        "\n",
        "def perplexity(snt, lm):\n",
        "    \"\"\"\n",
        "    snt: sequence of token ids\n",
        "    lm: language model\n",
        "    \"\"\"\n",
        "    text = list(snt)\n",
        "    counter_result = Counter(ngrams(text, 3))\n",
        "    \n",
        "    trigrams_probs = [log(lm.get_proba(k[0],k[1],k[2], tau=1)) for k in counter_result.keys()]\n",
        "    m = len(snt)\n",
        "    result = 2 **(-1/m*(sum(trigrams_probs)))\n",
        "    return result\n",
        "\n",
        "perplexity(tokenized_text[0], lm)"
      ],
      "execution_count": 45,
      "outputs": [
        {
          "output_type": "execute_result",
          "data": {
            "text/plain": [
              "3.383703965630975"
            ]
          },
          "metadata": {
            "tags": []
          },
          "execution_count": 45
        }
      ]
    }
  ]
}